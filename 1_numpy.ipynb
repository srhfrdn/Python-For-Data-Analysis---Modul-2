{
 "cells": [
  {
   "cell_type": "markdown",
   "metadata": {},
   "source": [
    "# __NUMPY (Numerical Python)__"
   ]
  },
  {
   "cell_type": "code",
   "execution_count": 1,
   "metadata": {},
   "outputs": [
    {
     "data": {
      "text/plain": [
       "3"
      ]
     },
     "execution_count": 1,
     "metadata": {},
     "output_type": "execute_result"
    }
   ],
   "source": [
    "1+2"
   ]
  },
  {
   "cell_type": "code",
   "execution_count": 2,
   "metadata": {},
   "outputs": [],
   "source": [
    "x = 2+3"
   ]
  },
  {
   "cell_type": "code",
   "execution_count": 3,
   "metadata": {},
   "outputs": [
    {
     "data": {
      "text/plain": [
       "5"
      ]
     },
     "execution_count": 3,
     "metadata": {},
     "output_type": "execute_result"
    }
   ],
   "source": [
    "x"
   ]
  },
  {
   "cell_type": "markdown",
   "metadata": {},
   "source": [
    "ini bukan code\n",
    "\n",
    "$\\displaystyle \\sqrt\\frac{(\\sum(x{i}-\\mu)^2}{n}$"
   ]
  },
  {
   "cell_type": "code",
   "execution_count": 4,
   "metadata": {},
   "outputs": [],
   "source": [
    "#import library\n",
    "\n",
    "import numpy as np"
   ]
  },
  {
   "cell_type": "code",
   "execution_count": 5,
   "metadata": {},
   "outputs": [
    {
     "name": "stdout",
     "output_type": "stream",
     "text": [
      "[1, 2, 3]\n"
     ]
    }
   ],
   "source": [
    "my_list = [1,2,3]\n",
    "my_list\n",
    "print(my_list)"
   ]
  },
  {
   "cell_type": "code",
   "execution_count": 6,
   "metadata": {},
   "outputs": [
    {
     "name": "stdout",
     "output_type": "stream",
     "text": [
      "<class 'list'>\n"
     ]
    }
   ],
   "source": [
    "print(type(my_list))"
   ]
  },
  {
   "cell_type": "code",
   "execution_count": 7,
   "metadata": {},
   "outputs": [],
   "source": [
    "my_array = np.array(my_list)"
   ]
  },
  {
   "cell_type": "code",
   "execution_count": 8,
   "metadata": {},
   "outputs": [
    {
     "name": "stdout",
     "output_type": "stream",
     "text": [
      "[1, 2, 3]\n",
      "[1 2 3]\n"
     ]
    }
   ],
   "source": [
    "print(my_list)\n",
    "print(my_array)"
   ]
  },
  {
   "cell_type": "code",
   "execution_count": 9,
   "metadata": {},
   "outputs": [
    {
     "name": "stdout",
     "output_type": "stream",
     "text": [
      "<class 'list'>\n",
      "<class 'numpy.ndarray'>\n"
     ]
    }
   ],
   "source": [
    "print(type(my_list))\n",
    "print(type(my_array))"
   ]
  },
  {
   "cell_type": "code",
   "execution_count": 10,
   "metadata": {},
   "outputs": [
    {
     "name": "stdout",
     "output_type": "stream",
     "text": [
      "['a', 'b', 'c', 4, 5]\n",
      "['a' 'b' 'c' '4' '5']\n"
     ]
    }
   ],
   "source": [
    "my_list2 = ['a', 'b', 'c', 4, 5]\n",
    "my_array2 = np.array(my_list2)\n",
    "\n",
    "print(my_list2)\n",
    "print(my_array2)"
   ]
  },
  {
   "cell_type": "code",
   "execution_count": 11,
   "metadata": {},
   "outputs": [
    {
     "name": "stdout",
     "output_type": "stream",
     "text": [
      "4\n",
      "4\n"
     ]
    }
   ],
   "source": [
    "print(my_list2[3])\n",
    "print(my_array2[3])"
   ]
  },
  {
   "cell_type": "code",
   "execution_count": 12,
   "metadata": {},
   "outputs": [
    {
     "name": "stdout",
     "output_type": "stream",
     "text": [
      "<class 'int'>\n",
      "<class 'numpy.str_'>\n"
     ]
    }
   ],
   "source": [
    "print(type(my_list2[3]))\n",
    "print(type(my_array2[3]))"
   ]
  },
  {
   "cell_type": "code",
   "execution_count": 13,
   "metadata": {},
   "outputs": [
    {
     "name": "stdout",
     "output_type": "stream",
     "text": [
      "[1.0, 2.5, 4.5, 6, 7]\n",
      "[1.  2.5 4.5 6.  7. ]\n"
     ]
    }
   ],
   "source": [
    "my_list3 = [1.0, 2.5, 4.5, 6, 7]\n",
    "my_array3 = np.array(my_list3)\n",
    "\n",
    "print(my_list3)\n",
    "print(my_array3)"
   ]
  },
  {
   "cell_type": "code",
   "execution_count": 14,
   "metadata": {},
   "outputs": [
    {
     "name": "stdout",
     "output_type": "stream",
     "text": [
      "<class 'int'>\n",
      "<class 'numpy.float64'>\n"
     ]
    }
   ],
   "source": [
    "print(type(my_list3[3]))\n",
    "print(type(my_array3[3]))"
   ]
  },
  {
   "cell_type": "markdown",
   "metadata": {},
   "source": [
    "### str < float < int"
   ]
  },
  {
   "cell_type": "code",
   "execution_count": 15,
   "metadata": {},
   "outputs": [
    {
     "data": {
      "text/plain": [
       "[1, 2, 3]"
      ]
     },
     "execution_count": 15,
     "metadata": {},
     "output_type": "execute_result"
    }
   ],
   "source": [
    "my_list"
   ]
  },
  {
   "cell_type": "code",
   "execution_count": 16,
   "metadata": {},
   "outputs": [],
   "source": [
    "my_list4 = [2,3,4]"
   ]
  },
  {
   "cell_type": "markdown",
   "metadata": {},
   "source": [
    "## operasi matematika menggunakan array"
   ]
  },
  {
   "cell_type": "code",
   "execution_count": 17,
   "metadata": {},
   "outputs": [
    {
     "data": {
      "text/plain": [
       "[1, 2, 3, 2, 3, 4]"
      ]
     },
     "execution_count": 17,
     "metadata": {},
     "output_type": "execute_result"
    }
   ],
   "source": [
    "my_list + my_list4"
   ]
  },
  {
   "cell_type": "code",
   "execution_count": 18,
   "metadata": {},
   "outputs": [
    {
     "data": {
      "text/plain": [
       "array([2, 3, 4])"
      ]
     },
     "execution_count": 18,
     "metadata": {},
     "output_type": "execute_result"
    }
   ],
   "source": [
    "my_array4 = np.array(my_list4)\n",
    "my_array4"
   ]
  },
  {
   "cell_type": "code",
   "execution_count": 19,
   "metadata": {},
   "outputs": [
    {
     "name": "stdout",
     "output_type": "stream",
     "text": [
      "(3,)\n"
     ]
    }
   ],
   "source": [
    "print(my_array4.shape)"
   ]
  },
  {
   "cell_type": "code",
   "execution_count": 20,
   "metadata": {},
   "outputs": [
    {
     "data": {
      "text/plain": [
       "array([3, 5, 7])"
      ]
     },
     "execution_count": 20,
     "metadata": {},
     "output_type": "execute_result"
    }
   ],
   "source": [
    "my_list + my_array4"
   ]
  },
  {
   "cell_type": "code",
   "execution_count": 21,
   "metadata": {},
   "outputs": [
    {
     "name": "stdout",
     "output_type": "stream",
     "text": [
      "[2 3 4]\n",
      "[5 6 7]\n"
     ]
    }
   ],
   "source": [
    "print(my_array4)\n",
    "print(my_array4 + 3)"
   ]
  },
  {
   "cell_type": "markdown",
   "metadata": {},
   "source": [
    "kalo pertambahan matrix, harus satu atau shapenya sama. Gak cuma pertambahan, tapi operasi matematika yg lain"
   ]
  },
  {
   "cell_type": "markdown",
   "metadata": {},
   "source": [
    "## Operasi matematika (x) menggunakan array"
   ]
  },
  {
   "cell_type": "code",
   "execution_count": 22,
   "metadata": {},
   "outputs": [
    {
     "name": "stdout",
     "output_type": "stream",
     "text": [
      "[2 3 4] [1, 2, 3]\n",
      "[1 4 9]\n"
     ]
    }
   ],
   "source": [
    "print(my_array4, my_list)\n",
    "print(my_array * my_list)"
   ]
  },
  {
   "cell_type": "code",
   "execution_count": 23,
   "metadata": {},
   "outputs": [
    {
     "name": "stdout",
     "output_type": "stream",
     "text": [
      "[2 3 4] [1 2 3]\n",
      "[ 2  6 12]\n"
     ]
    }
   ],
   "source": [
    "print(my_array4, my_array)\n",
    "print(my_array4 * my_array)"
   ]
  },
  {
   "cell_type": "markdown",
   "metadata": {},
   "source": [
    "## Array 2 dimensi"
   ]
  },
  {
   "cell_type": "code",
   "execution_count": 24,
   "metadata": {},
   "outputs": [
    {
     "name": "stdout",
     "output_type": "stream",
     "text": [
      "[[1, 2, 3], [4, 5, 6], [7, 8, 9]]\n"
     ]
    }
   ],
   "source": [
    "list_of_list = [[1,2,3],[4,5,6],[7,8,9]]\n",
    "print(list_of_list)"
   ]
  },
  {
   "cell_type": "code",
   "execution_count": 25,
   "metadata": {},
   "outputs": [
    {
     "name": "stdout",
     "output_type": "stream",
     "text": [
      "[[1 2 3]\n",
      " [4 5 6]\n",
      " [7 8 9]]\n"
     ]
    }
   ],
   "source": [
    "my_matrix = np.array(list_of_list)\n",
    "print(my_matrix)"
   ]
  },
  {
   "cell_type": "markdown",
   "metadata": {},
   "source": [
    "bentuknya matrix 3x3, bisa dilakukan operasi matematika"
   ]
  },
  {
   "cell_type": "markdown",
   "metadata": {},
   "source": [
    "## Operasi Matematika dengan array 2 dimensi"
   ]
  },
  {
   "cell_type": "code",
   "execution_count": 26,
   "metadata": {},
   "outputs": [
    {
     "name": "stdout",
     "output_type": "stream",
     "text": [
      "[[1 2 3]\n",
      " [4 5 6]\n",
      " [7 8 9]]\n",
      "[[ 4  5  6]\n",
      " [ 7  8  9]\n",
      " [10 11 12]]\n"
     ]
    }
   ],
   "source": [
    "print(my_matrix)\n",
    "print(my_matrix + 3)"
   ]
  },
  {
   "cell_type": "code",
   "execution_count": 27,
   "metadata": {},
   "outputs": [
    {
     "name": "stdout",
     "output_type": "stream",
     "text": [
      "[[ 2  4  6]\n",
      " [ 8 10 12]\n",
      " [14 16 18]]\n"
     ]
    }
   ],
   "source": [
    "print(my_matrix + list_of_list)"
   ]
  },
  {
   "cell_type": "code",
   "execution_count": 28,
   "metadata": {},
   "outputs": [
    {
     "data": {
      "text/plain": [
       "[[1, 2, 3], [4, 5, 6], [7, 8, 9]]"
      ]
     },
     "execution_count": 28,
     "metadata": {},
     "output_type": "execute_result"
    }
   ],
   "source": [
    "list_of_list"
   ]
  },
  {
   "cell_type": "code",
   "execution_count": 29,
   "metadata": {},
   "outputs": [
    {
     "data": {
      "text/plain": [
       "9"
      ]
     },
     "execution_count": 29,
     "metadata": {},
     "output_type": "execute_result"
    }
   ],
   "source": [
    "list_of_list[2][2]"
   ]
  },
  {
   "cell_type": "markdown",
   "metadata": {},
   "source": [
    "## __INDEXING & SLICING__"
   ]
  },
  {
   "cell_type": "markdown",
   "metadata": {},
   "source": [
    "### - 1 DIMENSI"
   ]
  },
  {
   "cell_type": "code",
   "execution_count": 30,
   "metadata": {},
   "outputs": [
    {
     "data": {
      "text/plain": [
       "array([10, 11, 12, 13, 14, 15])"
      ]
     },
     "execution_count": 30,
     "metadata": {},
     "output_type": "execute_result"
    }
   ],
   "source": [
    "a = np.arange(10,16)\n",
    "a"
   ]
  },
  {
   "cell_type": "code",
   "execution_count": 31,
   "metadata": {},
   "outputs": [
    {
     "name": "stdout",
     "output_type": "stream",
     "text": [
      "14\n",
      "15\n"
     ]
    }
   ],
   "source": [
    "#indexing\n",
    "print(a[4])\n",
    "print(a[-1])"
   ]
  },
  {
   "cell_type": "code",
   "execution_count": 32,
   "metadata": {},
   "outputs": [
    {
     "name": "stdout",
     "output_type": "stream",
     "text": [
      "[11 12]\n",
      "[10 12 14]\n"
     ]
    }
   ],
   "source": [
    "#slicing \n",
    "##(start:stop)\n",
    "print(a[1:3])\n",
    "##(start:stop:step)\n",
    "print(a[::2])"
   ]
  },
  {
   "cell_type": "markdown",
   "metadata": {},
   "source": [
    "### - 2 DIMENSI "
   ]
  },
  {
   "cell_type": "code",
   "execution_count": 33,
   "metadata": {},
   "outputs": [
    {
     "name": "stdout",
     "output_type": "stream",
     "text": [
      "[[1 2 3]\n",
      " [4 5 6]\n",
      " [7 8 9]]\n"
     ]
    }
   ],
   "source": [
    "print(my_matrix)"
   ]
  },
  {
   "cell_type": "code",
   "execution_count": 34,
   "metadata": {},
   "outputs": [
    {
     "name": "stdout",
     "output_type": "stream",
     "text": [
      "6\n",
      "6\n"
     ]
    }
   ],
   "source": [
    "#indexing (row index, row column)\n",
    "#mengambil value 6\n",
    "print(my_matrix[1,2])\n",
    "#sama saja\n",
    "print(my_matrix[1][2])"
   ]
  },
  {
   "cell_type": "code",
   "execution_count": 35,
   "metadata": {},
   "outputs": [
    {
     "name": "stdout",
     "output_type": "stream",
     "text": [
      "[1 2 3]\n",
      "[3]\n",
      "[1 4 7]\n",
      "[1]\n",
      "[[1 2]\n",
      " [4 5]]\n",
      "[[1 2]\n",
      " [7 8]]\n"
     ]
    }
   ],
   "source": [
    "#slicing\n",
    "# ([row , column])\n",
    "print(my_matrix[0,:])\n",
    "print(my_matrix[0,2:])\n",
    "print(my_matrix[:,0])\n",
    "print(my_matrix[:1,0])\n",
    "\n",
    "print(my_matrix[0:2,0:2])\n",
    "print(my_matrix[[0,2],0:2])"
   ]
  },
  {
   "cell_type": "code",
   "execution_count": 36,
   "metadata": {},
   "outputs": [
    {
     "name": "stdout",
     "output_type": "stream",
     "text": [
      "[[7 8 9]\n",
      " [4 5 6]\n",
      " [1 2 3]]\n"
     ]
    }
   ],
   "source": [
    "#membalik array (sama kayak membalik list)\n",
    "print(my_matrix[::-1])"
   ]
  },
  {
   "cell_type": "code",
   "execution_count": 37,
   "metadata": {},
   "outputs": [
    {
     "name": "stdout",
     "output_type": "stream",
     "text": [
      "[[10 11 12]\n",
      " [13 14 15]]\n"
     ]
    }
   ],
   "source": [
    "list_of_list2 = [[10,11,12], [13,14,15]]\n",
    "my_matrix2 = np.array(list_of_list2)\n",
    "print(my_matrix2)"
   ]
  },
  {
   "cell_type": "code",
   "execution_count": 38,
   "metadata": {},
   "outputs": [
    {
     "data": {
      "text/plain": [
       "(3, 3)"
      ]
     },
     "execution_count": 38,
     "metadata": {},
     "output_type": "execute_result"
    }
   ],
   "source": [
    "#row #coloumn\n",
    "my_matrix.shape"
   ]
  },
  {
   "cell_type": "markdown",
   "metadata": {},
   "source": [
    "pertambahan/operasi matematik lain -> matrix dengan dimenasi samaharus sama shape. Tapi kalo beda dimensi bisa ditambah (satu dimensi +dua dimensi)."
   ]
  },
  {
   "cell_type": "code",
   "execution_count": 39,
   "metadata": {},
   "outputs": [
    {
     "data": {
      "text/plain": [
       "(array([1, 2, 3]),\n",
       " array([[1, 2, 3],\n",
       "        [4, 5, 6],\n",
       "        [7, 8, 9]]))"
      ]
     },
     "execution_count": 39,
     "metadata": {},
     "output_type": "execute_result"
    }
   ],
   "source": [
    "my_array, my_matrix"
   ]
  },
  {
   "cell_type": "code",
   "execution_count": 40,
   "metadata": {},
   "outputs": [
    {
     "data": {
      "text/plain": [
       "array([[ 2,  4,  6],\n",
       "       [ 5,  7,  9],\n",
       "       [ 8, 10, 12]])"
      ]
     },
     "execution_count": 40,
     "metadata": {},
     "output_type": "execute_result"
    }
   ],
   "source": [
    "my_array + my_matrix"
   ]
  },
  {
   "cell_type": "markdown",
   "metadata": {},
   "source": [
    "## __2. Built-in Method Numpy"
   ]
  },
  {
   "cell_type": "markdown",
   "metadata": {},
   "source": [
    "## 2.1 np.arange"
   ]
  },
  {
   "cell_type": "code",
   "execution_count": 41,
   "metadata": {},
   "outputs": [
    {
     "data": {
      "text/plain": [
       "[0, 1, 2, 3, 4, 5, 6, 7, 8, 9]"
      ]
     },
     "execution_count": 41,
     "metadata": {},
     "output_type": "execute_result"
    }
   ],
   "source": [
    "#kalo di python\n",
    "ar1 = range(0,10)\n",
    "list(ar1)"
   ]
  },
  {
   "cell_type": "code",
   "execution_count": 42,
   "metadata": {},
   "outputs": [
    {
     "data": {
      "text/plain": [
       "array([0, 1, 2, 3, 4, 5, 6, 7, 8, 9])"
      ]
     },
     "execution_count": 42,
     "metadata": {},
     "output_type": "execute_result"
    }
   ],
   "source": [
    "#numpy\n",
    "nar1 = np.arange(0,10)\n",
    "nar1\n",
    "# print(np.arange(0,10))"
   ]
  },
  {
   "cell_type": "code",
   "execution_count": 43,
   "metadata": {},
   "outputs": [
    {
     "name": "stdout",
     "output_type": "stream",
     "text": [
      "<class 'numpy.ndarray'>\n"
     ]
    }
   ],
   "source": [
    "print(type(nar1))"
   ]
  },
  {
   "cell_type": "code",
   "execution_count": 44,
   "metadata": {},
   "outputs": [
    {
     "data": {
      "text/plain": [
       "[0, 2, 4, 6, 8]"
      ]
     },
     "execution_count": 44,
     "metadata": {},
     "output_type": "execute_result"
    }
   ],
   "source": [
    "#python\n",
    "ar2 = range(0,10,2)\n",
    "list(ar2)"
   ]
  },
  {
   "cell_type": "code",
   "execution_count": 45,
   "metadata": {},
   "outputs": [
    {
     "data": {
      "text/plain": [
       "array([0, 2, 4, 6, 8])"
      ]
     },
     "execution_count": 45,
     "metadata": {},
     "output_type": "execute_result"
    }
   ],
   "source": [
    "#numpy\n",
    "nar2 = np.arange(0,10,2)\n",
    "nar2"
   ]
  },
  {
   "cell_type": "markdown",
   "metadata": {},
   "source": [
    "#### Bikin arange jadi dua dimensi"
   ]
  },
  {
   "cell_type": "code",
   "execution_count": 46,
   "metadata": {},
   "outputs": [
    {
     "name": "stdout",
     "output_type": "stream",
     "text": [
      "[[ 0  1  2  3]\n",
      " [ 4  5  6  7]\n",
      " [ 8  9 10 11]]\n"
     ]
    }
   ],
   "source": [
    "print(np.arange(0,12).reshape(3,4))"
   ]
  },
  {
   "cell_type": "markdown",
   "metadata": {},
   "source": [
    "## 2.2 np.zeros() & np.ones() "
   ]
  },
  {
   "cell_type": "markdown",
   "metadata": {},
   "source": [
    "jadi kayak buat template data nantinya tinggal update"
   ]
  },
  {
   "cell_type": "code",
   "execution_count": 47,
   "metadata": {},
   "outputs": [
    {
     "data": {
      "text/plain": [
       "array([0., 0., 0., 0., 0., 0., 0.])"
      ]
     },
     "execution_count": 47,
     "metadata": {},
     "output_type": "execute_result"
    }
   ],
   "source": [
    "zer1 = np.zeros(7)\n",
    "zer1"
   ]
  },
  {
   "cell_type": "code",
   "execution_count": 48,
   "metadata": {},
   "outputs": [
    {
     "data": {
      "text/plain": [
       "array([[0., 0., 0., 0., 0.],\n",
       "       [0., 0., 0., 0., 0.],\n",
       "       [0., 0., 0., 0., 0.],\n",
       "       [0., 0., 0., 0., 0.]])"
      ]
     },
     "execution_count": 48,
     "metadata": {},
     "output_type": "execute_result"
    }
   ],
   "source": [
    "zer2 = np.zeros((4,5))\n",
    "zer2"
   ]
  },
  {
   "cell_type": "code",
   "execution_count": 49,
   "metadata": {},
   "outputs": [
    {
     "data": {
      "text/plain": [
       "(4, 5)"
      ]
     },
     "execution_count": 49,
     "metadata": {},
     "output_type": "execute_result"
    }
   ],
   "source": [
    "zer2.shape"
   ]
  },
  {
   "cell_type": "code",
   "execution_count": 50,
   "metadata": {},
   "outputs": [
    {
     "data": {
      "text/plain": [
       "4"
      ]
     },
     "execution_count": 50,
     "metadata": {},
     "output_type": "execute_result"
    }
   ],
   "source": [
    "len(zer2)"
   ]
  },
  {
   "cell_type": "code",
   "execution_count": 51,
   "metadata": {},
   "outputs": [
    {
     "data": {
      "text/plain": [
       "array([1., 1., 1., 1., 1., 1., 1.])"
      ]
     },
     "execution_count": 51,
     "metadata": {},
     "output_type": "execute_result"
    }
   ],
   "source": [
    "one1 = np.ones(7)\n",
    "one1"
   ]
  },
  {
   "cell_type": "code",
   "execution_count": 52,
   "metadata": {},
   "outputs": [
    {
     "data": {
      "text/plain": [
       "array([[1., 1.],\n",
       "       [1., 1.],\n",
       "       [1., 1.],\n",
       "       [1., 1.]])"
      ]
     },
     "execution_count": 52,
     "metadata": {},
     "output_type": "execute_result"
    }
   ],
   "source": [
    "one2 = np.ones((4,2))\n",
    "one2"
   ]
  },
  {
   "cell_type": "markdown",
   "metadata": {},
   "source": [
    "## 2.3 np.linspace()"
   ]
  },
  {
   "cell_type": "markdown",
   "metadata": {},
   "source": [
    "##membuat array dengan jarak antar data yang sama besar\n",
    "mau bikin 100data, jadi mau diambil beberapa data yg jaraknya sama\n",
    "(awal range, akhir range,jml data yg mau diambil)"
   ]
  },
  {
   "cell_type": "code",
   "execution_count": 53,
   "metadata": {},
   "outputs": [
    {
     "data": {
      "text/plain": [
       "array([   0.,   10.,   20.,   30.,   40.,   50.,   60.,   70.,   80.,\n",
       "         90.,  100.,  110.,  120.,  130.,  140.,  150.,  160.,  170.,\n",
       "        180.,  190.,  200.,  210.,  220.,  230.,  240.,  250.,  260.,\n",
       "        270.,  280.,  290.,  300.,  310.,  320.,  330.,  340.,  350.,\n",
       "        360.,  370.,  380.,  390.,  400.,  410.,  420.,  430.,  440.,\n",
       "        450.,  460.,  470.,  480.,  490.,  500.,  510.,  520.,  530.,\n",
       "        540.,  550.,  560.,  570.,  580.,  590.,  600.,  610.,  620.,\n",
       "        630.,  640.,  650.,  660.,  670.,  680.,  690.,  700.,  710.,\n",
       "        720.,  730.,  740.,  750.,  760.,  770.,  780.,  790.,  800.,\n",
       "        810.,  820.,  830.,  840.,  850.,  860.,  870.,  880.,  890.,\n",
       "        900.,  910.,  920.,  930.,  940.,  950.,  960.,  970.,  980.,\n",
       "        990., 1000.])"
      ]
     },
     "execution_count": 53,
     "metadata": {},
     "output_type": "execute_result"
    }
   ],
   "source": [
    "lin1 = np.linspace(0,1000,101)\n",
    "lin1"
   ]
  },
  {
   "cell_type": "code",
   "execution_count": 54,
   "metadata": {},
   "outputs": [
    {
     "data": {
      "text/plain": [
       "array([ 0.,  5., 10.])"
      ]
     },
     "execution_count": 54,
     "metadata": {},
     "output_type": "execute_result"
    }
   ],
   "source": [
    "lin2 = np.linspace(0,10,3)\n",
    "lin2"
   ]
  },
  {
   "cell_type": "markdown",
   "metadata": {},
   "source": [
    "## 2.4 np.eye() & np.identity()"
   ]
  },
  {
   "cell_type": "code",
   "execution_count": 55,
   "metadata": {},
   "outputs": [],
   "source": [
    "##membuat data yang dimana diagonalnya 1, dan sisanya 0\n",
    "#kalo matriks simetris, hasilnya akan simetris. Begitupun sebaliknya"
   ]
  },
  {
   "cell_type": "code",
   "execution_count": 56,
   "metadata": {},
   "outputs": [
    {
     "data": {
      "text/plain": [
       "array([[0., 1., 0.],\n",
       "       [0., 0., 1.],\n",
       "       [0., 0., 0.]])"
      ]
     },
     "execution_count": 56,
     "metadata": {},
     "output_type": "execute_result"
    }
   ],
   "source": [
    "eye1 = np.eye(3, k=1)\n",
    "eye1"
   ]
  },
  {
   "cell_type": "code",
   "execution_count": 57,
   "metadata": {},
   "outputs": [
    {
     "data": {
      "text/plain": [
       "array([[1., 0.],\n",
       "       [0., 1.],\n",
       "       [0., 0.]])"
      ]
     },
     "execution_count": 57,
     "metadata": {},
     "output_type": "execute_result"
    }
   ],
   "source": [
    "eye2 = np.eye(3,2)\n",
    "eye2"
   ]
  },
  {
   "cell_type": "code",
   "execution_count": 58,
   "metadata": {},
   "outputs": [
    {
     "data": {
      "text/plain": [
       "array([[1., 0.],\n",
       "       [0., 1.]])"
      ]
     },
     "execution_count": 58,
     "metadata": {},
     "output_type": "execute_result"
    }
   ],
   "source": [
    "np.identity(2)"
   ]
  },
  {
   "cell_type": "code",
   "execution_count": 59,
   "metadata": {},
   "outputs": [
    {
     "data": {
      "text/plain": [
       "array([['1', ''],\n",
       "       ['', '1']], dtype='<U1')"
      ]
     },
     "execution_count": 59,
     "metadata": {},
     "output_type": "execute_result"
    }
   ],
   "source": [
    "np.identity(2, dtype = str)"
   ]
  },
  {
   "cell_type": "markdown",
   "metadata": {},
   "source": [
    "### 2.5 np.random.rand()"
   ]
  },
  {
   "cell_type": "code",
   "execution_count": 60,
   "metadata": {},
   "outputs": [],
   "source": [
    "#membuat array dengan random value antara 0 -1 dengan data float\n",
    "\n",
    "#seed = pseudo random generator, mengontrol randomizing. \n",
    "#Dan kalo di run lagi di nomer yg sama, tidak akan berubah\n",
    "#kalo beda angka, baru berubah"
   ]
  },
  {
   "cell_type": "code",
   "execution_count": 61,
   "metadata": {},
   "outputs": [
    {
     "data": {
      "text/plain": [
       "array([0.9600173 , 0.69951205, 0.99986729, 0.2200673 , 0.36105635,\n",
       "       0.73984099, 0.99645573, 0.31634698, 0.13654458, 0.38398001])"
      ]
     },
     "execution_count": 61,
     "metadata": {},
     "output_type": "execute_result"
    }
   ],
   "source": [
    "np.random.seed(24)\n",
    "\n",
    "rand1 = np.random.rand(10)\n",
    "rand1"
   ]
  },
  {
   "cell_type": "code",
   "execution_count": 62,
   "metadata": {},
   "outputs": [
    {
     "data": {
      "text/plain": [
       "array([[0.32051928, 0.36641475, 0.70965156, 0.90014243, 0.53411544],\n",
       "       [0.24729376, 0.67180656, 0.56172911, 0.54255988, 0.8934476 ],\n",
       "       [0.84277955, 0.30601259, 0.63116978, 0.68023886, 0.97042756],\n",
       "       [0.89356715, 0.94242586, 0.64222548, 0.61464763, 0.22768325],\n",
       "       [0.48603187, 0.8072193 , 0.84422015, 0.53468087, 0.75779805]])"
      ]
     },
     "execution_count": 62,
     "metadata": {},
     "output_type": "execute_result"
    }
   ],
   "source": [
    "rand2 = np.random.rand(5,5)\n",
    "rand2"
   ]
  },
  {
   "cell_type": "code",
   "execution_count": 63,
   "metadata": {},
   "outputs": [
    {
     "data": {
      "text/plain": [
       "array([ 1.19287519e+00, -1.10021085e-03,  9.90318015e-01,  3.27802060e-01,\n",
       "       -5.12540806e-01, -1.40636025e+00, -9.98815116e-01,  3.48012510e-01,\n",
       "       -2.18777665e-01, -9.92222900e-01,  6.76690181e-01,  8.72009137e-02,\n",
       "        1.53894538e+00, -5.89839719e-01,  3.34284857e-01,  6.51931540e-01,\n",
       "        1.60774248e-01, -8.81227234e-01,  2.44670492e-01,  1.28596301e+00,\n",
       "        6.04934551e-01, -2.07538966e+00, -4.81376250e-01, -1.75180743e+00,\n",
       "        6.03821744e-01, -1.50176355e+00, -1.27990816e+00,  8.86080499e-01,\n",
       "        9.42286796e-01, -1.26932837e+00,  5.20933334e-01, -5.86559636e-01,\n",
       "       -8.06896394e-02,  2.76513878e-01, -2.51783793e-01, -6.64441855e-01,\n",
       "       -1.20578491e+00,  2.56341371e-01, -5.95081864e-01,  1.80285554e-01,\n",
       "       -1.31960078e-01, -1.41435441e+00,  1.52324443e+00, -3.38449383e-01,\n",
       "        7.05489161e-01, -1.52250603e+00, -1.44027274e+00,  2.28156831e-01,\n",
       "        3.75322707e-01, -5.07393620e-01,  1.99525802e+00, -2.65319553e+00,\n",
       "        1.61172047e-01,  4.98807330e-01, -1.41053744e+00, -2.40526504e+00,\n",
       "       -8.32131507e-01, -8.59253080e-01,  1.62084929e+00, -1.17765869e+00,\n",
       "       -8.09916221e-01, -2.97846546e-01, -1.50525113e+00, -2.49171126e+00,\n",
       "        9.44713446e-01, -1.31716443e+00,  9.81823841e-02, -1.20264297e+00,\n",
       "        1.15695751e+00,  9.94988000e-01,  5.06474783e-01,  1.56068100e+00,\n",
       "        1.34250033e+00, -6.05279675e-01,  1.99234281e+00, -9.22622656e-01,\n",
       "       -4.29583122e-01,  4.26440098e-01,  1.90873195e+00,  2.04220246e+00,\n",
       "        1.27946133e+00,  1.07928072e+00,  5.41121526e-01, -2.87822785e-01,\n",
       "       -1.11323064e-01, -6.27521137e-01,  2.03337115e-01, -1.18897079e+00,\n",
       "        1.61644436e+00, -3.16999112e-01,  2.62228928e+00,  1.66613436e-01,\n",
       "        1.52324767e+00,  5.89180825e-01,  8.51521000e-02, -5.78819932e-01,\n",
       "       -2.76868900e-01, -7.40992640e-01, -1.58253820e+00, -1.48172326e+00])"
      ]
     },
     "execution_count": 63,
     "metadata": {},
     "output_type": "execute_result"
    }
   ],
   "source": [
    "#intermezo\n",
    "normal1 =np.random.normal(0,1,100)\n",
    "normal1"
   ]
  },
  {
   "cell_type": "markdown",
   "metadata": {},
   "source": [
    "## 2.6 np.random.randint"
   ]
  },
  {
   "cell_type": "code",
   "execution_count": 64,
   "metadata": {},
   "outputs": [],
   "source": [
    "##membuat data atau array dengan value random dan datanya berupa integer\n",
    "#format 1dimensi : (awal range, akhir range, mencari berapa angka angka)\n",
    "#format 2 dimensi : (awal range, akhir range, (row,coloumn))\n",
    "#setiap run berubah"
   ]
  },
  {
   "cell_type": "code",
   "execution_count": 65,
   "metadata": {},
   "outputs": [
    {
     "data": {
      "text/plain": [
       "1"
      ]
     },
     "execution_count": 65,
     "metadata": {},
     "output_type": "execute_result"
    }
   ],
   "source": [
    "randint1 = np.random.randint(1,15)\n",
    "randint1"
   ]
  },
  {
   "cell_type": "code",
   "execution_count": 66,
   "metadata": {},
   "outputs": [
    {
     "data": {
      "text/plain": [
       "array([ 3, 13,  6,  1, 14, 12,  4, 14,  8, 13])"
      ]
     },
     "execution_count": 66,
     "metadata": {},
     "output_type": "execute_result"
    }
   ],
   "source": [
    "randint2 = np.random.randint(1,15,10)\n",
    "randint2"
   ]
  },
  {
   "cell_type": "code",
   "execution_count": 67,
   "metadata": {},
   "outputs": [
    {
     "data": {
      "text/plain": [
       "array([[10,  8,  2,  9, 14],\n",
       "       [11, 12,  6,  6, 14],\n",
       "       [ 6, 10, 12, 10, 12],\n",
       "       [14,  6, 12,  2, 12],\n",
       "       [ 3, 12,  7,  9, 10]])"
      ]
     },
     "execution_count": 67,
     "metadata": {},
     "output_type": "execute_result"
    }
   ],
   "source": [
    "randint3 = np.random.randint(1,15,(5,5))\n",
    "randint3"
   ]
  },
  {
   "cell_type": "markdown",
   "metadata": {},
   "source": [
    "### 2.7 np.reshape()"
   ]
  },
  {
   "cell_type": "code",
   "execution_count": 68,
   "metadata": {},
   "outputs": [
    {
     "data": {
      "text/plain": [
       "array([5, 3, 7, 2, 1, 8, 3, 8, 8, 4, 7, 7, 7, 3, 7, 5, 5, 3, 8, 4])"
      ]
     },
     "execution_count": 68,
     "metadata": {},
     "output_type": "execute_result"
    }
   ],
   "source": [
    "my_array5 = np.random.randint(1,10,20)\n",
    "my_array5"
   ]
  },
  {
   "cell_type": "code",
   "execution_count": 69,
   "metadata": {},
   "outputs": [
    {
     "data": {
      "text/plain": [
       "(20,)"
      ]
     },
     "execution_count": 69,
     "metadata": {},
     "output_type": "execute_result"
    }
   ],
   "source": [
    "my_array5.shape"
   ]
  },
  {
   "cell_type": "code",
   "execution_count": 70,
   "metadata": {},
   "outputs": [],
   "source": [
    "##mereshape jadi satu dimensi menjadi dimensi lain\n",
    "#jadi kalo reshape, harus pasangan bilangan faktor dari shapenya\n",
    "#misalnya shape20, reshape jadi 4,5"
   ]
  },
  {
   "cell_type": "code",
   "execution_count": 71,
   "metadata": {},
   "outputs": [
    {
     "data": {
      "text/plain": [
       "array([[5, 3, 7, 2, 1],\n",
       "       [8, 3, 8, 8, 4],\n",
       "       [7, 7, 7, 3, 7],\n",
       "       [5, 5, 3, 8, 4]])"
      ]
     },
     "execution_count": 71,
     "metadata": {},
     "output_type": "execute_result"
    }
   ],
   "source": [
    "my_matrix5 = my_array5.reshape(4,5)\n",
    "my_matrix5"
   ]
  },
  {
   "cell_type": "code",
   "execution_count": 72,
   "metadata": {},
   "outputs": [
    {
     "data": {
      "text/plain": [
       "array([[[5, 3, 7, 2, 1],\n",
       "        [8, 3, 8, 8, 4]],\n",
       "\n",
       "       [[7, 7, 7, 3, 7],\n",
       "        [5, 5, 3, 8, 4]]])"
      ]
     },
     "execution_count": 72,
     "metadata": {},
     "output_type": "execute_result"
    }
   ],
   "source": [
    "my_matrix6 =  my_array5.reshape(2,2,5)\n",
    "#(dimensi pertama, dimensi kedua, dimensi ketiga)\n",
    "my_matrix6"
   ]
  },
  {
   "cell_type": "code",
   "execution_count": 73,
   "metadata": {},
   "outputs": [
    {
     "data": {
      "text/plain": [
       "(2, 2, 5)"
      ]
     },
     "execution_count": 73,
     "metadata": {},
     "output_type": "execute_result"
    }
   ],
   "source": [
    "my_matrix6.shape"
   ]
  },
  {
   "cell_type": "code",
   "execution_count": 74,
   "metadata": {},
   "outputs": [],
   "source": [
    "##kalo datanya banyak\n",
    "#format:row diserah kan ke numpy, coloumnya kita yg tentuin (-1,5)\n",
    "#-1 => diserahkan ke numpy untuk diproses, tapi gabisa -1 dua2nya di coloum dan row\n",
    "#harus salah satu ditentuin dulu"
   ]
  },
  {
   "cell_type": "code",
   "execution_count": 75,
   "metadata": {},
   "outputs": [
    {
     "data": {
      "text/plain": [
       "array([6, 5, 8, 8, 9, 7, 7, 3, 5, 8, 7, 1, 9, 8, 3, 1, 2, 1, 2, 3, 4, 4,\n",
       "       5, 9, 8, 2, 8, 3, 4, 4, 7, 8, 8, 2, 5, 5, 6, 1, 2, 4, 4, 1, 1, 2,\n",
       "       3, 1, 4, 2, 7, 1, 2, 5, 1, 8, 3, 4, 9, 9, 5, 1, 3, 8, 9, 9, 3, 5,\n",
       "       9, 8, 1, 1, 4, 8, 3, 9, 1, 3, 6, 3, 6, 1, 8, 6, 9, 4, 8, 5, 6, 3,\n",
       "       3, 7, 8, 5, 1, 9, 8, 6, 8, 7, 8, 3, 3, 1, 3, 7, 2, 6, 5, 1, 5, 8,\n",
       "       1, 9, 8, 9, 8, 5, 8, 4, 5, 6, 9, 5, 6, 9, 2])"
      ]
     },
     "execution_count": 75,
     "metadata": {},
     "output_type": "execute_result"
    }
   ],
   "source": [
    "my_array6 = np.random.randint(1,10,125)\n",
    "my_array6"
   ]
  },
  {
   "cell_type": "code",
   "execution_count": 76,
   "metadata": {},
   "outputs": [
    {
     "data": {
      "text/plain": [
       "array([[6, 5, 8, 8, 9],\n",
       "       [7, 7, 3, 5, 8],\n",
       "       [7, 1, 9, 8, 3],\n",
       "       [1, 2, 1, 2, 3],\n",
       "       [4, 4, 5, 9, 8],\n",
       "       [2, 8, 3, 4, 4],\n",
       "       [7, 8, 8, 2, 5],\n",
       "       [5, 6, 1, 2, 4],\n",
       "       [4, 1, 1, 2, 3],\n",
       "       [1, 4, 2, 7, 1],\n",
       "       [2, 5, 1, 8, 3],\n",
       "       [4, 9, 9, 5, 1],\n",
       "       [3, 8, 9, 9, 3],\n",
       "       [5, 9, 8, 1, 1],\n",
       "       [4, 8, 3, 9, 1],\n",
       "       [3, 6, 3, 6, 1],\n",
       "       [8, 6, 9, 4, 8],\n",
       "       [5, 6, 3, 3, 7],\n",
       "       [8, 5, 1, 9, 8],\n",
       "       [6, 8, 7, 8, 3],\n",
       "       [3, 1, 3, 7, 2],\n",
       "       [6, 5, 1, 5, 8],\n",
       "       [1, 9, 8, 9, 8],\n",
       "       [5, 8, 4, 5, 6],\n",
       "       [9, 5, 6, 9, 2]])"
      ]
     },
     "execution_count": 76,
     "metadata": {},
     "output_type": "execute_result"
    }
   ],
   "source": [
    "my_matrix7 = my_array6.reshape(-1,5)\n",
    "my_matrix7"
   ]
  },
  {
   "cell_type": "markdown",
   "metadata": {},
   "source": [
    "## 2.8 arr.max() & arr.argmax"
   ]
  },
  {
   "cell_type": "code",
   "execution_count": 77,
   "metadata": {},
   "outputs": [],
   "source": [
    "#arr.max = mencari nilai terbesar dari array, dan mengembalikan dengan value\n",
    "#arr.argmax = mencari index nilai terbesar dari array (yg pertama kali ditemui)"
   ]
  },
  {
   "cell_type": "code",
   "execution_count": 78,
   "metadata": {},
   "outputs": [
    {
     "data": {
      "text/plain": [
       "9"
      ]
     },
     "execution_count": 78,
     "metadata": {},
     "output_type": "execute_result"
    }
   ],
   "source": [
    "my_matrix7.max()"
   ]
  },
  {
   "cell_type": "code",
   "execution_count": 79,
   "metadata": {},
   "outputs": [
    {
     "data": {
      "text/plain": [
       "4"
      ]
     },
     "execution_count": 79,
     "metadata": {},
     "output_type": "execute_result"
    }
   ],
   "source": [
    "my_matrix7.argmax()"
   ]
  },
  {
   "cell_type": "markdown",
   "metadata": {},
   "source": [
    "## FLATEN() VS RAVEL()"
   ]
  },
  {
   "cell_type": "code",
   "execution_count": 80,
   "metadata": {},
   "outputs": [],
   "source": [
    "#flatten = seperti copy, ravel = hanya view saja\n",
    "# a = [1,2,3]\n",
    "# a = b ==> ravel\n",
    "# c = a.copy() ==> flatten\n",
    "\n",
    "flat = my_matrix7.flatten()\n",
    "ravel = my_matrix7.ravel()"
   ]
  },
  {
   "cell_type": "code",
   "execution_count": 81,
   "metadata": {},
   "outputs": [
    {
     "name": "stdout",
     "output_type": "stream",
     "text": [
      "[1 5 8 8 9 7 7 3 5 8 7 1 9 8 3 1 2 1 2 3 4 4 5 9 8 2 8 3 4 4 7 8 8 2 5 5 6\n",
      " 1 2 4 4 1 1 2 3 1 4 2 7 1 2 5 1 8 3 4 9 9 5 1 3 8 9 9 3 5 9 8 1 1 4 8 3 9\n",
      " 1 3 6 3 6 1 8 6 9 4 8 5 6 3 3 7 8 5 1 9 8 6 8 7 8 3 3 1 3 7 2 6 5 1 5 8 1\n",
      " 9 8 9 8 5 8 4 5 6 9 5 6 9 2]\n",
      "[[1 5 8 8 9]\n",
      " [7 7 3 5 8]\n",
      " [7 1 9 8 3]\n",
      " [1 2 1 2 3]\n",
      " [4 4 5 9 8]\n",
      " [2 8 3 4 4]\n",
      " [7 8 8 2 5]\n",
      " [5 6 1 2 4]\n",
      " [4 1 1 2 3]\n",
      " [1 4 2 7 1]\n",
      " [2 5 1 8 3]\n",
      " [4 9 9 5 1]\n",
      " [3 8 9 9 3]\n",
      " [5 9 8 1 1]\n",
      " [4 8 3 9 1]\n",
      " [3 6 3 6 1]\n",
      " [8 6 9 4 8]\n",
      " [5 6 3 3 7]\n",
      " [8 5 1 9 8]\n",
      " [6 8 7 8 3]\n",
      " [3 1 3 7 2]\n",
      " [6 5 1 5 8]\n",
      " [1 9 8 9 8]\n",
      " [5 8 4 5 6]\n",
      " [9 5 6 9 2]]\n"
     ]
    }
   ],
   "source": [
    "ravel[0] = 1\n",
    "print(ravel)\n",
    "print(my_matrix7)"
   ]
  },
  {
   "cell_type": "code",
   "execution_count": 82,
   "metadata": {},
   "outputs": [
    {
     "name": "stdout",
     "output_type": "stream",
     "text": [
      "[1 5 8 8 9 7 7 3 5 8 7 1 9 8 3 1 2 1 2 3 4 4 5 9 8 2 8 3 4 4 7 8 8 2 5 5 6\n",
      " 1 2 4 4 1 1 2 3 1 4 2 7 1 2 5 1 8 3 4 9 9 5 1 3 8 9 9 3 5 9 8 1 1 4 8 3 9\n",
      " 1 3 6 3 6 1 8 6 9 4 8 5 6 3 3 7 8 5 1 9 8 6 8 7 8 3 3 1 3 7 2 6 5 1 5 8 1\n",
      " 9 8 9 8 5 8 4 5 6 9 5 6 9 2]\n",
      "[[1 5 8 8 9]\n",
      " [7 7 3 5 8]\n",
      " [7 1 9 8 3]\n",
      " [1 2 1 2 3]\n",
      " [4 4 5 9 8]\n",
      " [2 8 3 4 4]\n",
      " [7 8 8 2 5]\n",
      " [5 6 1 2 4]\n",
      " [4 1 1 2 3]\n",
      " [1 4 2 7 1]\n",
      " [2 5 1 8 3]\n",
      " [4 9 9 5 1]\n",
      " [3 8 9 9 3]\n",
      " [5 9 8 1 1]\n",
      " [4 8 3 9 1]\n",
      " [3 6 3 6 1]\n",
      " [8 6 9 4 8]\n",
      " [5 6 3 3 7]\n",
      " [8 5 1 9 8]\n",
      " [6 8 7 8 3]\n",
      " [3 1 3 7 2]\n",
      " [6 5 1 5 8]\n",
      " [1 9 8 9 8]\n",
      " [5 8 4 5 6]\n",
      " [9 5 6 9 2]]\n"
     ]
    }
   ],
   "source": [
    "flat[0] = 1\n",
    "print(flat)\n",
    "print(my_matrix7)"
   ]
  },
  {
   "cell_type": "markdown",
   "metadata": {},
   "source": [
    "## np.all() dan np.any()"
   ]
  },
  {
   "cell_type": "markdown",
   "metadata": {},
   "source": [
    "np.all() = mengecek tidak adanya nol\n",
    "np.any() = mengecek adanya element bukan nol"
   ]
  },
  {
   "cell_type": "code",
   "execution_count": 83,
   "metadata": {},
   "outputs": [
    {
     "name": "stdout",
     "output_type": "stream",
     "text": [
      "True\n",
      "False\n",
      "False\n",
      "True\n",
      "True\n",
      "False\n"
     ]
    }
   ],
   "source": [
    "x = np.array([1,2,3,4])\n",
    "y = np.array([1,2,3,0])\n",
    "z = np.array([0,0,0,0])\n",
    "\n",
    "print(np.all(x))\n",
    "print(np.all(y))\n",
    "print(np.all(z))\n",
    "print(np.any(x))\n",
    "print(np.any(y))\n",
    "print(np.any(z))"
   ]
  },
  {
   "cell_type": "markdown",
   "metadata": {},
   "source": [
    "## 2.9 arr.min() & arr.argmin()"
   ]
  },
  {
   "cell_type": "markdown",
   "metadata": {},
   "source": [
    "arr.min() = mencari nilai terkecil\n",
    "arr.argmin() = mencari index nilai terkecil yg muncul pertama kali"
   ]
  },
  {
   "cell_type": "code",
   "execution_count": 91,
   "metadata": {},
   "outputs": [
    {
     "name": "stdout",
     "output_type": "stream",
     "text": [
      "[[1 5 8 8 9]\n",
      " [7 7 3 5 8]\n",
      " [7 1 9 8 3]\n",
      " [1 2 1 2 3]\n",
      " [4 4 5 9 8]\n",
      " [2 8 3 4 4]\n",
      " [7 8 8 2 5]\n",
      " [5 6 1 2 4]\n",
      " [4 1 1 2 3]\n",
      " [1 4 2 7 1]\n",
      " [2 5 1 8 3]\n",
      " [4 9 9 5 1]\n",
      " [3 8 9 9 3]\n",
      " [5 9 8 1 1]\n",
      " [4 8 3 9 1]\n",
      " [3 6 3 6 1]\n",
      " [8 6 9 4 8]\n",
      " [5 6 3 3 7]\n",
      " [8 5 1 9 8]\n",
      " [6 8 7 8 3]\n",
      " [3 1 3 7 2]\n",
      " [6 5 1 5 8]\n",
      " [1 9 8 9 8]\n",
      " [5 8 4 5 6]\n",
      " [9 5 6 9 2]]\n"
     ]
    }
   ],
   "source": [
    "print(my_matrix7)"
   ]
  },
  {
   "cell_type": "code",
   "execution_count": 93,
   "metadata": {},
   "outputs": [
    {
     "data": {
      "text/plain": [
       "1"
      ]
     },
     "execution_count": 93,
     "metadata": {},
     "output_type": "execute_result"
    }
   ],
   "source": [
    "my_matrix7.min()"
   ]
  },
  {
   "cell_type": "code",
   "execution_count": 95,
   "metadata": {},
   "outputs": [
    {
     "data": {
      "text/plain": [
       "0"
      ]
     },
     "execution_count": 95,
     "metadata": {},
     "output_type": "execute_result"
    }
   ],
   "source": [
    "#index nilai terkecil yang pertama kali ditemui ada di index\n",
    "my_matrix7.argmin()"
   ]
  },
  {
   "cell_type": "markdown",
   "metadata": {},
   "source": [
    "## 2.10 arr.dtype(), type(), array.astype()"
   ]
  },
  {
   "cell_type": "code",
   "execution_count": 223,
   "metadata": {},
   "outputs": [
    {
     "data": {
      "text/plain": [
       "array([[1, 5, 8, 8, 9],\n",
       "       [7, 7, 3, 5, 8],\n",
       "       [7, 1, 9, 8, 3],\n",
       "       [1, 2, 1, 2, 3],\n",
       "       [4, 4, 5, 9, 8],\n",
       "       [2, 8, 3, 4, 4],\n",
       "       [7, 8, 8, 2, 5],\n",
       "       [5, 6, 1, 2, 4],\n",
       "       [4, 1, 1, 2, 3],\n",
       "       [1, 4, 2, 7, 1],\n",
       "       [2, 5, 1, 8, 3],\n",
       "       [4, 9, 9, 5, 1],\n",
       "       [3, 8, 9, 9, 3],\n",
       "       [5, 9, 8, 1, 1],\n",
       "       [4, 8, 3, 9, 1],\n",
       "       [3, 6, 3, 6, 1],\n",
       "       [8, 6, 9, 4, 8],\n",
       "       [5, 6, 3, 3, 7],\n",
       "       [8, 5, 1, 9, 8],\n",
       "       [6, 8, 7, 8, 3],\n",
       "       [3, 1, 3, 7, 2],\n",
       "       [6, 5, 1, 5, 8],\n",
       "       [1, 9, 8, 9, 8],\n",
       "       [5, 8, 4, 5, 6],\n",
       "       [9, 5, 6, 9, 2]])"
      ]
     },
     "execution_count": 223,
     "metadata": {},
     "output_type": "execute_result"
    }
   ],
   "source": [
    "my_matrix7"
   ]
  },
  {
   "cell_type": "code",
   "execution_count": 225,
   "metadata": {},
   "outputs": [
    {
     "data": {
      "text/plain": [
       "numpy.ndarray"
      ]
     },
     "execution_count": 225,
     "metadata": {},
     "output_type": "execute_result"
    }
   ],
   "source": [
    "type(my_matrix7)"
   ]
  },
  {
   "cell_type": "code",
   "execution_count": 96,
   "metadata": {},
   "outputs": [
    {
     "data": {
      "text/plain": [
       "dtype('int32')"
      ]
     },
     "execution_count": 96,
     "metadata": {},
     "output_type": "execute_result"
    }
   ],
   "source": [
    "my_matrix7.dtype"
   ]
  },
  {
   "cell_type": "code",
   "execution_count": 226,
   "metadata": {},
   "outputs": [
    {
     "data": {
      "text/plain": [
       "array([['1', '5', '8', '8', '9'],\n",
       "       ['7', '7', '3', '5', '8'],\n",
       "       ['7', '1', '9', '8', '3'],\n",
       "       ['1', '2', '1', '2', '3'],\n",
       "       ['4', '4', '5', '9', '8'],\n",
       "       ['2', '8', '3', '4', '4'],\n",
       "       ['7', '8', '8', '2', '5'],\n",
       "       ['5', '6', '1', '2', '4'],\n",
       "       ['4', '1', '1', '2', '3'],\n",
       "       ['1', '4', '2', '7', '1'],\n",
       "       ['2', '5', '1', '8', '3'],\n",
       "       ['4', '9', '9', '5', '1'],\n",
       "       ['3', '8', '9', '9', '3'],\n",
       "       ['5', '9', '8', '1', '1'],\n",
       "       ['4', '8', '3', '9', '1'],\n",
       "       ['3', '6', '3', '6', '1'],\n",
       "       ['8', '6', '9', '4', '8'],\n",
       "       ['5', '6', '3', '3', '7'],\n",
       "       ['8', '5', '1', '9', '8'],\n",
       "       ['6', '8', '7', '8', '3'],\n",
       "       ['3', '1', '3', '7', '2'],\n",
       "       ['6', '5', '1', '5', '8'],\n",
       "       ['1', '9', '8', '9', '8'],\n",
       "       ['5', '8', '4', '5', '6'],\n",
       "       ['9', '5', '6', '9', '2']], dtype='<U11')"
      ]
     },
     "execution_count": 226,
     "metadata": {},
     "output_type": "execute_result"
    }
   ],
   "source": [
    "my_matrix7.astype(str)"
   ]
  },
  {
   "cell_type": "markdown",
   "metadata": {},
   "source": [
    "## 3. INDEXING & SLICING"
   ]
  },
  {
   "cell_type": "code",
   "execution_count": 99,
   "metadata": {},
   "outputs": [
    {
     "data": {
      "text/plain": [
       "array([11, 12, 13, 14, 15, 16, 17, 18, 19, 20, 21, 22, 23, 24, 25, 26, 27,\n",
       "       28, 29, 30])"
      ]
     },
     "execution_count": 99,
     "metadata": {},
     "output_type": "execute_result"
    }
   ],
   "source": [
    "#Kita buat array baru\n",
    "my_array8 = np.arange(11,31)\n",
    "my_array8"
   ]
  },
  {
   "cell_type": "code",
   "execution_count": 101,
   "metadata": {},
   "outputs": [
    {
     "data": {
      "text/plain": [
       "14"
      ]
     },
     "execution_count": 101,
     "metadata": {},
     "output_type": "execute_result"
    }
   ],
   "source": [
    "#indexing sama seperti list python\n",
    "my_array8[3]"
   ]
  },
  {
   "cell_type": "code",
   "execution_count": 105,
   "metadata": {},
   "outputs": [
    {
     "data": {
      "text/plain": [
       "array([11, 12, 13, 14])"
      ]
     },
     "execution_count": 105,
     "metadata": {},
     "output_type": "execute_result"
    }
   ],
   "source": [
    "#[start:stop]\n",
    "my_array8[0:4]\n",
    "#sama seperti list, batas belakang tidak diikutkan"
   ]
  },
  {
   "cell_type": "code",
   "execution_count": 104,
   "metadata": {},
   "outputs": [
    {
     "data": {
      "text/plain": [
       "array([11, 13, 15, 17, 19])"
      ]
     },
     "execution_count": 104,
     "metadata": {},
     "output_type": "execute_result"
    }
   ],
   "source": [
    "#[start:stop:step]\n",
    "my_array8[0:9:2]"
   ]
  },
  {
   "cell_type": "markdown",
   "metadata": {},
   "source": [
    "### 3.1 Len()"
   ]
  },
  {
   "cell_type": "code",
   "execution_count": 100,
   "metadata": {},
   "outputs": [
    {
     "data": {
      "text/plain": [
       "20"
      ]
     },
     "execution_count": 100,
     "metadata": {},
     "output_type": "execute_result"
    }
   ],
   "source": [
    "len(my_array8)"
   ]
  },
  {
   "cell_type": "markdown",
   "metadata": {},
   "source": [
    "#### 2 dimensi"
   ]
  },
  {
   "cell_type": "code",
   "execution_count": 106,
   "metadata": {},
   "outputs": [
    {
     "data": {
      "text/plain": [
       "array([[1, 5, 8, 8, 9],\n",
       "       [7, 7, 3, 5, 8],\n",
       "       [7, 1, 9, 8, 3],\n",
       "       [1, 2, 1, 2, 3],\n",
       "       [4, 4, 5, 9, 8],\n",
       "       [2, 8, 3, 4, 4],\n",
       "       [7, 8, 8, 2, 5],\n",
       "       [5, 6, 1, 2, 4],\n",
       "       [4, 1, 1, 2, 3],\n",
       "       [1, 4, 2, 7, 1]])"
      ]
     },
     "execution_count": 106,
     "metadata": {},
     "output_type": "execute_result"
    }
   ],
   "source": [
    "my_matrix8 = my_matrix7[:10].copy()\n",
    "my_matrix8"
   ]
  },
  {
   "cell_type": "code",
   "execution_count": 108,
   "metadata": {},
   "outputs": [
    {
     "data": {
      "text/plain": [
       "array([2, 8, 3, 4, 4])"
      ]
     },
     "execution_count": 108,
     "metadata": {},
     "output_type": "execute_result"
    }
   ],
   "source": [
    "my_matrix8[5]"
   ]
  },
  {
   "cell_type": "code",
   "execution_count": 111,
   "metadata": {},
   "outputs": [
    {
     "data": {
      "text/plain": [
       "5"
      ]
     },
     "execution_count": 111,
     "metadata": {},
     "output_type": "execute_result"
    }
   ],
   "source": [
    "my_matrix8[4,2]"
   ]
  },
  {
   "cell_type": "markdown",
   "metadata": {},
   "source": [
    "## 4. BROADCASTING"
   ]
  },
  {
   "cell_type": "code",
   "execution_count": 113,
   "metadata": {},
   "outputs": [
    {
     "data": {
      "text/plain": [
       "array([[1, 5, 8, 8, 9],\n",
       "       [7, 7, 3, 5, 8],\n",
       "       [7, 1, 9, 8, 3],\n",
       "       [1, 2, 1, 2, 3],\n",
       "       [4, 4, 5, 9, 8],\n",
       "       [2, 8, 3, 4, 4],\n",
       "       [7, 8, 8, 2, 5],\n",
       "       [5, 6, 1, 2, 4],\n",
       "       [4, 1, 1, 2, 3],\n",
       "       [1, 4, 2, 7, 1]])"
      ]
     },
     "execution_count": 113,
     "metadata": {},
     "output_type": "execute_result"
    }
   ],
   "source": [
    "my_matrix8"
   ]
  },
  {
   "cell_type": "code",
   "execution_count": 114,
   "metadata": {},
   "outputs": [
    {
     "data": {
      "text/plain": [
       "array([[0, 0, 0, 0, 9],\n",
       "       [7, 7, 3, 5, 8],\n",
       "       [7, 1, 9, 8, 3],\n",
       "       [1, 2, 1, 2, 3],\n",
       "       [4, 4, 5, 9, 8],\n",
       "       [2, 8, 3, 4, 4],\n",
       "       [7, 8, 8, 2, 5],\n",
       "       [5, 6, 1, 2, 4],\n",
       "       [4, 1, 1, 2, 3],\n",
       "       [1, 4, 2, 7, 1]])"
      ]
     },
     "execution_count": 114,
     "metadata": {},
     "output_type": "execute_result"
    }
   ],
   "source": [
    "#tentukan row dan column yg akan diganti [row , column]\n",
    "my_matrix8[0,0:4] = 0\n",
    "my_matrix8"
   ]
  },
  {
   "cell_type": "code",
   "execution_count": 119,
   "metadata": {},
   "outputs": [
    {
     "data": {
      "text/plain": [
       "array([[5, 0, 0, 0, 9],\n",
       "       [5, 7, 3, 5, 8],\n",
       "       [5, 1, 9, 8, 3],\n",
       "       [5, 2, 1, 2, 3],\n",
       "       [5, 4, 5, 9, 8],\n",
       "       [5, 8, 3, 4, 4],\n",
       "       [5, 8, 8, 2, 5],\n",
       "       [5, 6, 1, 2, 4],\n",
       "       [5, 1, 1, 2, 3],\n",
       "       [5, 4, 2, 7, 1]])"
      ]
     },
     "execution_count": 119,
     "metadata": {},
     "output_type": "execute_result"
    }
   ],
   "source": [
    "my_matrix8[0:,0:1] = 5\n",
    "my_matrix8"
   ]
  },
  {
   "cell_type": "code",
   "execution_count": 121,
   "metadata": {},
   "outputs": [
    {
     "data": {
      "text/plain": [
       "array([[ 1,  0,  0,  0,  9],\n",
       "       [ 2,  7,  3,  5,  8],\n",
       "       [ 3,  1,  9,  8,  3],\n",
       "       [ 4,  2,  1,  2,  3],\n",
       "       [ 5,  4,  5,  9,  8],\n",
       "       [ 6,  8,  3,  4,  4],\n",
       "       [ 7,  8,  8,  2,  5],\n",
       "       [ 8,  6,  1,  2,  4],\n",
       "       [ 9,  1,  1,  2,  3],\n",
       "       [10,  4,  2,  7,  1]])"
      ]
     },
     "execution_count": 121,
     "metadata": {},
     "output_type": "execute_result"
    }
   ],
   "source": [
    "#bisa lgsg semua dengan beda angka tapi disiapkan angka sesuai len yg mau diganti.\n",
    "my_matrix8[0:,0] = [1,2,3,4,5,6,7,8,9,10]\n",
    "my_matrix8"
   ]
  },
  {
   "cell_type": "markdown",
   "metadata": {},
   "source": [
    "### 4.1 np.where()"
   ]
  },
  {
   "cell_type": "code",
   "execution_count": 231,
   "metadata": {},
   "outputs": [
    {
     "data": {
      "text/plain": [
       "(array([0, 2, 4, 8, 9], dtype=int64), array([4, 2, 3, 0, 0], dtype=int64))"
      ]
     },
     "execution_count": 231,
     "metadata": {},
     "output_type": "execute_result"
    }
   ],
   "source": [
    "#mencari elemen di dua dimensi, hasilnya 2 array yaitu row dan column\n",
    "#hasilnya berupa return\n",
    "np.where(my_matrix8 > 8)"
   ]
  },
  {
   "cell_type": "code",
   "execution_count": 126,
   "metadata": {},
   "outputs": [
    {
     "data": {
      "text/plain": [
       "(array([0, 1, 2, 3, 4, 5, 6, 7, 8], dtype=int64),)"
      ]
     },
     "execution_count": 126,
     "metadata": {},
     "output_type": "execute_result"
    }
   ],
   "source": [
    "#1dimensi\n",
    "np.where(my_array8<20)"
   ]
  },
  {
   "cell_type": "code",
   "execution_count": 131,
   "metadata": {},
   "outputs": [
    {
     "data": {
      "text/plain": [
       "array([11, 12, 13, 14, 15, 16, 17, 18, 19, 20, 21, 22, 23, 24, 25, 26, 27,\n",
       "       28, 29, 30])"
      ]
     },
     "execution_count": 131,
     "metadata": {},
     "output_type": "execute_result"
    }
   ],
   "source": [
    "my_array8"
   ]
  },
  {
   "cell_type": "code",
   "execution_count": 228,
   "metadata": {},
   "outputs": [
    {
     "data": {
      "text/plain": [
       "(array([0], dtype=int64),)"
      ]
     },
     "execution_count": 228,
     "metadata": {},
     "output_type": "execute_result"
    }
   ],
   "source": [
    "np.where(my_array8 == 11)"
   ]
  },
  {
   "cell_type": "code",
   "execution_count": 229,
   "metadata": {},
   "outputs": [
    {
     "data": {
      "text/plain": [
       "(array([], dtype=int64),)"
      ]
     },
     "execution_count": 229,
     "metadata": {},
     "output_type": "execute_result"
    }
   ],
   "source": [
    "np.where(my_array8 == 5)"
   ]
  },
  {
   "cell_type": "code",
   "execution_count": 130,
   "metadata": {},
   "outputs": [
    {
     "data": {
      "text/plain": [
       "array([21, 21, 21, 21, 21, 21, 21, 21, 21, 20, 21, 22, 23, 24, 25, 26, 27,\n",
       "       28, 29, 30])"
      ]
     },
     "execution_count": 130,
     "metadata": {},
     "output_type": "execute_result"
    }
   ],
   "source": [
    "#cari dan langsung ganti (broadcasting lebih mudah)\n",
    "# np.where(kondisinya apa, value ketika kondisi sesuai, value ketika kondisi tidak sesuai)\n",
    "#bisa diubah jadi string, tapi data type semua akan jadi string\n",
    "my_array9 = np.where(my_array8<20,21,my_array8)\n",
    "my_array9"
   ]
  },
  {
   "cell_type": "markdown",
   "metadata": {},
   "source": [
    "## 5. arr.copy()"
   ]
  },
  {
   "cell_type": "code",
   "execution_count": 133,
   "metadata": {},
   "outputs": [
    {
     "data": {
      "text/plain": [
       "array([11, 12, 13, 14, 15, 16, 17, 18, 19, 20, 21, 22, 23, 24, 25, 26, 27,\n",
       "       28, 29, 30])"
      ]
     },
     "execution_count": 133,
     "metadata": {},
     "output_type": "execute_result"
    }
   ],
   "source": [
    "my_array9 = my_array8.copy()\n",
    "my_array9"
   ]
  },
  {
   "cell_type": "code",
   "execution_count": 134,
   "metadata": {},
   "outputs": [
    {
     "data": {
      "text/plain": [
       "array([11, 12, 13, 14, 15, 16, 17, 18, 19, 20, 21, 22, 23, 24, 25, 26, 27,\n",
       "       28, 29, 30])"
      ]
     },
     "execution_count": 134,
     "metadata": {},
     "output_type": "execute_result"
    }
   ],
   "source": [
    "my_array8"
   ]
  },
  {
   "cell_type": "code",
   "execution_count": 136,
   "metadata": {},
   "outputs": [
    {
     "name": "stdout",
     "output_type": "stream",
     "text": [
      "[100  12  13  14  15  16  17  18  19  20  21  22  23  24  25  26  27  28\n",
      "  29  30]\n",
      "[11 12 13 14 15 16 17 18 19 20 21 22 23 24 25 26 27 28 29 30]\n"
     ]
    }
   ],
   "source": [
    "#tidak merubah parent\n",
    "my_array9[0] = 100\n",
    "print(my_array9)\n",
    "print(my_array8)"
   ]
  },
  {
   "cell_type": "markdown",
   "metadata": {},
   "source": [
    "## 6. slicing 2d Array"
   ]
  },
  {
   "cell_type": "code",
   "execution_count": 138,
   "metadata": {},
   "outputs": [
    {
     "data": {
      "text/plain": [
       "array([[ 1,  0,  0,  0,  9],\n",
       "       [ 2,  7,  3,  5,  8],\n",
       "       [ 3,  1,  9,  8,  3],\n",
       "       [ 4,  2,  1,  2,  3],\n",
       "       [ 5,  4,  5,  9,  8],\n",
       "       [ 6,  8,  3,  4,  4],\n",
       "       [ 7,  8,  8,  2,  5],\n",
       "       [ 8,  6,  1,  2,  4],\n",
       "       [ 9,  1,  1,  2,  3],\n",
       "       [10,  4,  2,  7,  1]])"
      ]
     },
     "execution_count": 138,
     "metadata": {},
     "output_type": "execute_result"
    }
   ],
   "source": [
    "my_matrix8"
   ]
  },
  {
   "cell_type": "code",
   "execution_count": 139,
   "metadata": {},
   "outputs": [
    {
     "data": {
      "text/plain": [
       "array([[0, 0, 9],\n",
       "       [3, 5, 8],\n",
       "       [9, 8, 3]])"
      ]
     },
     "execution_count": 139,
     "metadata": {},
     "output_type": "execute_result"
    }
   ],
   "source": [
    "#[row awal:row akhir, column awal: index colum akhir]\n",
    "my_matrix8[0:3, 2:]"
   ]
  },
  {
   "cell_type": "code",
   "execution_count": 141,
   "metadata": {},
   "outputs": [
    {
     "data": {
      "text/plain": [
       "array([[ 8,  6],\n",
       "       [ 9,  1],\n",
       "       [10,  4]])"
      ]
     },
     "execution_count": 141,
     "metadata": {},
     "output_type": "execute_result"
    }
   ],
   "source": [
    "#bisa [start:stop:step]\n",
    "my_matrix8[-3::1,0:2]"
   ]
  },
  {
   "cell_type": "code",
   "execution_count": 146,
   "metadata": {},
   "outputs": [
    {
     "data": {
      "text/plain": [
       "array([[ 6],\n",
       "       [ 7],\n",
       "       [ 8],\n",
       "       [ 9],\n",
       "       [10]])"
      ]
     },
     "execution_count": 146,
     "metadata": {},
     "output_type": "execute_result"
    }
   ],
   "source": [
    "my_matrix8[-5:,0].reshape(-1,1)"
   ]
  },
  {
   "cell_type": "code",
   "execution_count": 143,
   "metadata": {},
   "outputs": [
    {
     "data": {
      "text/plain": [
       "array([[ 8,  6],\n",
       "       [ 9,  1],\n",
       "       [10,  4]])"
      ]
     },
     "execution_count": 143,
     "metadata": {},
     "output_type": "execute_result"
    }
   ],
   "source": [
    "my_matrix8[-3:,0:2]"
   ]
  },
  {
   "cell_type": "code",
   "execution_count": 145,
   "metadata": {},
   "outputs": [
    {
     "data": {
      "text/plain": [
       "array([[8],\n",
       "       [3],\n",
       "       [3],\n",
       "       [8]])"
      ]
     },
     "execution_count": 145,
     "metadata": {},
     "output_type": "execute_result"
    }
   ],
   "source": [
    "my_matrix8[1:5,-1:]"
   ]
  },
  {
   "cell_type": "markdown",
   "metadata": {},
   "source": [
    "## 7. Lenght of Array\n"
   ]
  },
  {
   "cell_type": "code",
   "execution_count": 147,
   "metadata": {},
   "outputs": [
    {
     "data": {
      "text/plain": [
       "array([[ 1,  0,  0,  0,  9],\n",
       "       [ 2,  7,  3,  5,  8],\n",
       "       [ 3,  1,  9,  8,  3],\n",
       "       [ 4,  2,  1,  2,  3],\n",
       "       [ 5,  4,  5,  9,  8],\n",
       "       [ 6,  8,  3,  4,  4],\n",
       "       [ 7,  8,  8,  2,  5],\n",
       "       [ 8,  6,  1,  2,  4],\n",
       "       [ 9,  1,  1,  2,  3],\n",
       "       [10,  4,  2,  7,  1]])"
      ]
     },
     "execution_count": 147,
     "metadata": {},
     "output_type": "execute_result"
    }
   ],
   "source": [
    "my_matrix8"
   ]
  },
  {
   "cell_type": "code",
   "execution_count": 148,
   "metadata": {},
   "outputs": [
    {
     "data": {
      "text/plain": [
       "array([[ 1,  0,  0,  0,  9],\n",
       "       [ 2,  7,  3,  5,  8],\n",
       "       [ 3,  1,  9,  8,  3],\n",
       "       [ 4,  2,  1,  2,  3],\n",
       "       [ 5,  4,  5,  9,  8],\n",
       "       [ 6,  8,  3,  4,  4],\n",
       "       [ 7,  8,  8,  2,  5],\n",
       "       [ 8,  6,  1,  2,  4],\n",
       "       [ 9,  1,  1,  2,  3],\n",
       "       [10,  4,  2,  7,  1]])"
      ]
     },
     "execution_count": 148,
     "metadata": {},
     "output_type": "execute_result"
    }
   ],
   "source": [
    "my_matrix8"
   ]
  },
  {
   "cell_type": "code",
   "execution_count": 149,
   "metadata": {},
   "outputs": [
    {
     "data": {
      "text/plain": [
       "10"
      ]
     },
     "execution_count": 149,
     "metadata": {},
     "output_type": "execute_result"
    }
   ],
   "source": [
    "len(my_matrix8)"
   ]
  },
  {
   "cell_type": "code",
   "execution_count": 150,
   "metadata": {},
   "outputs": [
    {
     "data": {
      "text/plain": [
       "(10, 5)"
      ]
     },
     "execution_count": 150,
     "metadata": {},
     "output_type": "execute_result"
    }
   ],
   "source": [
    "my_matrix8.shape"
   ]
  },
  {
   "cell_type": "markdown",
   "metadata": {},
   "source": [
    "## 8. Selection Using COnditional Statement"
   ]
  },
  {
   "cell_type": "code",
   "execution_count": 152,
   "metadata": {},
   "outputs": [
    {
     "data": {
      "text/plain": [
       "array([ 7, 23, 10,  9, 24, 15,  7, 11, 10, 17,  7, 21, 24, 11,  5, 20,  9,\n",
       "       10, 20,  5])"
      ]
     },
     "execution_count": 152,
     "metadata": {},
     "output_type": "execute_result"
    }
   ],
   "source": [
    "gaji = np.random.randint(5,25,20)\n",
    "gaji"
   ]
  },
  {
   "cell_type": "code",
   "execution_count": 153,
   "metadata": {},
   "outputs": [
    {
     "data": {
      "text/plain": [
       "array([False,  True, False, False,  True,  True, False,  True, False,\n",
       "        True, False,  True,  True,  True, False,  True, False, False,\n",
       "        True, False])"
      ]
     },
     "execution_count": 153,
     "metadata": {},
     "output_type": "execute_result"
    }
   ],
   "source": [
    "gaji > 10"
   ]
  },
  {
   "cell_type": "code",
   "execution_count": 154,
   "metadata": {},
   "outputs": [
    {
     "data": {
      "text/plain": [
       "array([23, 24, 15, 11, 17, 21, 24, 11, 20, 20])"
      ]
     },
     "execution_count": 154,
     "metadata": {},
     "output_type": "execute_result"
    }
   ],
   "source": [
    "up_10 = gaji[gaji>10]\n",
    "up_10"
   ]
  },
  {
   "cell_type": "code",
   "execution_count": 155,
   "metadata": {},
   "outputs": [
    {
     "data": {
      "text/plain": [
       "50.0"
      ]
     },
     "execution_count": 155,
     "metadata": {},
     "output_type": "execute_result"
    }
   ],
   "source": [
    "len(up_10)/len(gaji)*100"
   ]
  },
  {
   "cell_type": "code",
   "execution_count": 156,
   "metadata": {},
   "outputs": [
    {
     "data": {
      "text/plain": [
       "array([ True, False,  True,  True, False, False,  True, False,  True,\n",
       "       False,  True, False, False, False,  True, False,  True,  True,\n",
       "       False,  True])"
      ]
     },
     "execution_count": 156,
     "metadata": {},
     "output_type": "execute_result"
    }
   ],
   "source": [
    "# ~ = inverse\n",
    "~(gaji>10)"
   ]
  },
  {
   "cell_type": "code",
   "execution_count": 158,
   "metadata": {},
   "outputs": [
    {
     "data": {
      "text/plain": [
       "array([ 7, 10,  9,  7, 10,  7,  5,  9, 10,  5])"
      ]
     },
     "execution_count": 158,
     "metadata": {},
     "output_type": "execute_result"
    }
   ],
   "source": [
    "under_10 = gaji[~(gaji>10)]\n",
    "under_10"
   ]
  },
  {
   "cell_type": "code",
   "execution_count": 160,
   "metadata": {},
   "outputs": [],
   "source": [
    "#hampir sama kayak np.where, tapi np.where mereturn index\n",
    "#kalo ini mereturn boolean"
   ]
  },
  {
   "cell_type": "markdown",
   "metadata": {},
   "source": [
    "## 9. Aritmetic"
   ]
  },
  {
   "cell_type": "code",
   "execution_count": 162,
   "metadata": {},
   "outputs": [
    {
     "data": {
      "text/plain": [
       "array([100,  12,  13,  14,  15,  16,  17,  18,  19,  20,  21,  22,  23,\n",
       "        24,  25,  26,  27,  28,  29,  30])"
      ]
     },
     "execution_count": 162,
     "metadata": {},
     "output_type": "execute_result"
    }
   ],
   "source": [
    "my_array9"
   ]
  },
  {
   "cell_type": "code",
   "execution_count": 164,
   "metadata": {},
   "outputs": [
    {
     "data": {
      "text/plain": [
       "array([14, 11, 10, 10, 10, 14, 12, 11, 10, 11, 12, 10, 13, 10, 14, 12, 13,\n",
       "       11, 13, 11])"
      ]
     },
     "execution_count": 164,
     "metadata": {},
     "output_type": "execute_result"
    }
   ],
   "source": [
    "my_array10 = np.random.randint(10,15,20)\n",
    "my_array10"
   ]
  },
  {
   "cell_type": "code",
   "execution_count": 165,
   "metadata": {},
   "outputs": [
    {
     "data": {
      "text/plain": [
       "array([114,  23,  23,  24,  25,  30,  29,  29,  29,  31,  33,  32,  36,\n",
       "        34,  39,  38,  40,  39,  42,  41])"
      ]
     },
     "execution_count": 165,
     "metadata": {},
     "output_type": "execute_result"
    }
   ],
   "source": [
    "my_array9 + my_array10"
   ]
  },
  {
   "cell_type": "code",
   "execution_count": 166,
   "metadata": {},
   "outputs": [],
   "source": [
    "my_matrix9 = my_array9.reshape(4,5)\n",
    "my_matrix10 = my_array10.reshape(2,10)"
   ]
  },
  {
   "cell_type": "code",
   "execution_count": 167,
   "metadata": {},
   "outputs": [
    {
     "data": {
      "text/plain": [
       "array([[100,  12,  13,  14,  15],\n",
       "       [ 16,  17,  18,  19,  20],\n",
       "       [ 21,  22,  23,  24,  25],\n",
       "       [ 26,  27,  28,  29,  30]])"
      ]
     },
     "execution_count": 167,
     "metadata": {},
     "output_type": "execute_result"
    }
   ],
   "source": [
    "my_matrix9"
   ]
  },
  {
   "cell_type": "code",
   "execution_count": 169,
   "metadata": {},
   "outputs": [
    {
     "data": {
      "text/plain": [
       "array([[14, 11, 10, 10, 10, 14, 12, 11, 10, 11],\n",
       "       [12, 10, 13, 10, 14, 12, 13, 11, 13, 11]])"
      ]
     },
     "execution_count": 169,
     "metadata": {},
     "output_type": "execute_result"
    }
   ],
   "source": [
    "my_matrix10"
   ]
  },
  {
   "cell_type": "code",
   "execution_count": 175,
   "metadata": {},
   "outputs": [],
   "source": [
    "#Gabisa dilakukan operasi matematika jika beda shape\n",
    "#yang penting jumlah kolomnya sama\n",
    "\n",
    "# my_matrix9+my_matrix10"
   ]
  },
  {
   "cell_type": "code",
   "execution_count": 176,
   "metadata": {},
   "outputs": [
    {
     "data": {
      "text/plain": [
       "array([14, 11, 10, 10, 10])"
      ]
     },
     "execution_count": 176,
     "metadata": {},
     "output_type": "execute_result"
    }
   ],
   "source": [
    "my_array10[:5]"
   ]
  },
  {
   "cell_type": "code",
   "execution_count": 172,
   "metadata": {},
   "outputs": [
    {
     "data": {
      "text/plain": [
       "array([[114,  23,  23,  24,  25],\n",
       "       [ 30,  28,  28,  29,  30],\n",
       "       [ 35,  33,  33,  34,  35],\n",
       "       [ 40,  38,  38,  39,  40]])"
      ]
     },
     "execution_count": 172,
     "metadata": {},
     "output_type": "execute_result"
    }
   ],
   "source": [
    "my_matrix9 + my_array10[:5]"
   ]
  },
  {
   "cell_type": "code",
   "execution_count": 173,
   "metadata": {},
   "outputs": [
    {
     "data": {
      "text/plain": [
       "(4, 5)"
      ]
     },
     "execution_count": 173,
     "metadata": {},
     "output_type": "execute_result"
    }
   ],
   "source": [
    "my_matrix9.shape"
   ]
  },
  {
   "cell_type": "code",
   "execution_count": 174,
   "metadata": {},
   "outputs": [
    {
     "data": {
      "text/plain": [
       "(5,)"
      ]
     },
     "execution_count": 174,
     "metadata": {},
     "output_type": "execute_result"
    }
   ],
   "source": [
    "my_array10[:5].shape"
   ]
  },
  {
   "cell_type": "code",
   "execution_count": 234,
   "metadata": {},
   "outputs": [
    {
     "data": {
      "text/plain": [
       "array([[1400,  132,  130,  140,  150],\n",
       "       [ 224,  187,  180,  190,  200],\n",
       "       [ 294,  242,  230,  240,  250],\n",
       "       [ 364,  297,  280,  290,  300]])"
      ]
     },
     "execution_count": 234,
     "metadata": {},
     "output_type": "execute_result"
    }
   ],
   "source": [
    "my_matrix9 * my_array10[:5]"
   ]
  },
  {
   "cell_type": "code",
   "execution_count": null,
   "metadata": {},
   "outputs": [],
   "source": [
    "x = [11,12,13,14,15]\n",
    "y = [1,2,3,4,5]"
   ]
  },
  {
   "cell_type": "code",
   "execution_count": 236,
   "metadata": {},
   "outputs": [
    {
     "data": {
      "text/plain": [
       "array([2, 4, 6, 4])"
      ]
     },
     "execution_count": 236,
     "metadata": {},
     "output_type": "execute_result"
    }
   ],
   "source": [
    "x + y"
   ]
  },
  {
   "cell_type": "markdown",
   "metadata": {},
   "source": [
    "### np.power = pangkat"
   ]
  },
  {
   "cell_type": "code",
   "execution_count": 177,
   "metadata": {},
   "outputs": [
    {
     "data": {
      "text/plain": [
       "array([100,  12,  13,  14,  15,  16,  17,  18,  19,  20,  21,  22,  23,\n",
       "        24,  25,  26,  27,  28,  29,  30])"
      ]
     },
     "execution_count": 177,
     "metadata": {},
     "output_type": "execute_result"
    }
   ],
   "source": [
    "my_array9"
   ]
  },
  {
   "cell_type": "code",
   "execution_count": 178,
   "metadata": {},
   "outputs": [
    {
     "data": {
      "text/plain": [
       "array([10000,   144,   169,   196,   225,   256,   289,   324,   361,\n",
       "         400,   441,   484,   529,   576,   625,   676,   729,   784,\n",
       "         841,   900], dtype=int32)"
      ]
     },
     "execution_count": 178,
     "metadata": {},
     "output_type": "execute_result"
    }
   ],
   "source": [
    "np.power(my_array9, [2])"
   ]
  },
  {
   "cell_type": "markdown",
   "metadata": {},
   "source": [
    "### np.sqrt = akar pangkat 2"
   ]
  },
  {
   "cell_type": "code",
   "execution_count": 181,
   "metadata": {},
   "outputs": [
    {
     "data": {
      "text/plain": [
       "array([100,  12,  13,  14,  15,  16,  17,  18,  19,  20,  21,  22,  23,\n",
       "        24,  25,  26,  27,  28,  29,  30])"
      ]
     },
     "metadata": {},
     "output_type": "display_data"
    },
    {
     "data": {
      "text/plain": [
       "array([10.        ,  3.46410162,  3.60555128,  3.74165739,  3.87298335,\n",
       "        4.        ,  4.12310563,  4.24264069,  4.35889894,  4.47213595,\n",
       "        4.58257569,  4.69041576,  4.79583152,  4.89897949,  5.        ,\n",
       "        5.09901951,  5.19615242,  5.29150262,  5.38516481,  5.47722558])"
      ]
     },
     "execution_count": 181,
     "metadata": {},
     "output_type": "execute_result"
    }
   ],
   "source": [
    "#display menampilkan hasil return aja, bukan diprint\n",
    "display(my_array9)\n",
    "np.sqrt(my_array9)"
   ]
  },
  {
   "cell_type": "markdown",
   "metadata": {},
   "source": [
    "## np.log()"
   ]
  },
  {
   "cell_type": "code",
   "execution_count": 182,
   "metadata": {},
   "outputs": [
    {
     "data": {
      "text/plain": [
       "2.0"
      ]
     },
     "execution_count": 182,
     "metadata": {},
     "output_type": "execute_result"
    }
   ],
   "source": [
    "#pangkatan dua\n",
    "np.log2(4)"
   ]
  },
  {
   "cell_type": "code",
   "execution_count": 184,
   "metadata": {},
   "outputs": [
    {
     "data": {
      "text/plain": [
       "2.0"
      ]
     },
     "execution_count": 184,
     "metadata": {},
     "output_type": "execute_result"
    }
   ],
   "source": [
    "#pangkatan sepuluh\n",
    "np.log10(100)"
   ]
  },
  {
   "cell_type": "code",
   "execution_count": 185,
   "metadata": {},
   "outputs": [
    {
     "data": {
      "text/plain": [
       "7.38905609893065"
      ]
     },
     "execution_count": 185,
     "metadata": {},
     "output_type": "execute_result"
    }
   ],
   "source": [
    "np.exp(2)"
   ]
  },
  {
   "cell_type": "code",
   "execution_count": 186,
   "metadata": {},
   "outputs": [
    {
     "data": {
      "text/plain": [
       "24.95"
      ]
     },
     "execution_count": 186,
     "metadata": {},
     "output_type": "execute_result"
    }
   ],
   "source": [
    "np.mean(my_array9)"
   ]
  },
  {
   "cell_type": "code",
   "execution_count": 187,
   "metadata": {},
   "outputs": [
    {
     "data": {
      "text/plain": [
       "21.5"
      ]
     },
     "execution_count": 187,
     "metadata": {},
     "output_type": "execute_result"
    }
   ],
   "source": [
    "np.median(my_array9)"
   ]
  },
  {
   "cell_type": "code",
   "execution_count": 188,
   "metadata": {},
   "outputs": [
    {
     "data": {
      "text/plain": [
       "5.766281297335398"
      ]
     },
     "execution_count": 188,
     "metadata": {},
     "output_type": "execute_result"
    }
   ],
   "source": [
    "#std numpy, for population (n)\n",
    "np.std(my_array8)"
   ]
  },
  {
   "cell_type": "code",
   "execution_count": 190,
   "metadata": {},
   "outputs": [
    {
     "data": {
      "text/plain": [
       "5.916079783099616"
      ]
     },
     "execution_count": 190,
     "metadata": {},
     "output_type": "execute_result"
    }
   ],
   "source": [
    "#std for sampel (n-1)\n",
    "my_array8.std(ddof=1)"
   ]
  },
  {
   "cell_type": "markdown",
   "metadata": {},
   "source": [
    "### np.absolute"
   ]
  },
  {
   "cell_type": "code",
   "execution_count": 192,
   "metadata": {},
   "outputs": [
    {
     "data": {
      "text/plain": [
       "2"
      ]
     },
     "execution_count": 192,
     "metadata": {},
     "output_type": "execute_result"
    }
   ],
   "source": [
    "np.absolute(-2)"
   ]
  },
  {
   "cell_type": "code",
   "execution_count": 193,
   "metadata": {},
   "outputs": [
    {
     "data": {
      "text/plain": [
       "array([-0.50636564, -0.53657292,  0.42016704,  0.99060736,  0.65028784,\n",
       "       -0.28790332, -0.96139749, -0.75098725,  0.14987721,  0.91294525,\n",
       "        0.83665564, -0.00885131, -0.8462204 , -0.90557836, -0.13235175,\n",
       "        0.76255845,  0.95637593,  0.27090579, -0.66363388, -0.98803162])"
      ]
     },
     "execution_count": 193,
     "metadata": {},
     "output_type": "execute_result"
    }
   ],
   "source": [
    "np.sin(my_array9)"
   ]
  },
  {
   "cell_type": "code",
   "execution_count": 194,
   "metadata": {},
   "outputs": [
    {
     "data": {
      "text/plain": [
       "array([ 0.86231887,  0.84385396,  0.90744678,  0.13673722, -0.75968791,\n",
       "       -0.95765948, -0.27516334,  0.66031671,  0.98870462,  0.40808206,\n",
       "       -0.54772926, -0.99996083, -0.53283302,  0.42417901,  0.99120281,\n",
       "        0.64691932, -0.29213881, -0.96260587, -0.74805753,  0.15425145])"
      ]
     },
     "execution_count": 194,
     "metadata": {},
     "output_type": "execute_result"
    }
   ],
   "source": [
    "np.cos(my_array9)"
   ]
  },
  {
   "cell_type": "code",
   "execution_count": 195,
   "metadata": {},
   "outputs": [
    {
     "data": {
      "text/plain": [
       "array([-0.58721392, -0.63585993,  0.46302113,  7.24460662, -0.8559934 ,\n",
       "        0.30063224,  3.49391565, -1.13731371,  0.15158947,  2.23716094,\n",
       "       -1.52749853,  0.00885166,  1.58815308, -2.1348967 , -0.13352641,\n",
       "        1.17875355, -3.2737038 , -0.2814296 ,  0.88714284, -6.4053312 ])"
      ]
     },
     "execution_count": 195,
     "metadata": {},
     "output_type": "execute_result"
    }
   ],
   "source": [
    "np.tan(my_array9)"
   ]
  },
  {
   "cell_type": "code",
   "execution_count": null,
   "metadata": {},
   "outputs": [],
   "source": [
    "##masih ada lagi"
   ]
  },
  {
   "cell_type": "markdown",
   "metadata": {},
   "source": [
    "## 10. np.append(), np.insert(), np.delete()"
   ]
  },
  {
   "cell_type": "code",
   "execution_count": null,
   "metadata": {},
   "outputs": [],
   "source": [
    "##mereturn sesuatu tapi gak mengubah array9 yg asli\n",
    "#kalo mau dijadiin variabel"
   ]
  },
  {
   "cell_type": "code",
   "execution_count": 196,
   "metadata": {},
   "outputs": [
    {
     "data": {
      "text/plain": [
       "array([100,  12,  13,  14,  15,  16,  17,  18,  19,  20,  21,  22,  23,\n",
       "        24,  25,  26,  27,  28,  29,  30])"
      ]
     },
     "execution_count": 196,
     "metadata": {},
     "output_type": "execute_result"
    }
   ],
   "source": [
    "my_array9"
   ]
  },
  {
   "cell_type": "code",
   "execution_count": 197,
   "metadata": {},
   "outputs": [
    {
     "data": {
      "text/plain": [
       "array([100,  12,  13,  14,  15,  16,  17,  18,  19,  20,  21,  22,  23,\n",
       "        24,  25,  26,  27,  28,  29,  30,  31])"
      ]
     },
     "execution_count": 197,
     "metadata": {},
     "output_type": "execute_result"
    }
   ],
   "source": [
    "## menambah di belakang\n",
    "#np.append(array,value)\n",
    "np.append(my_array9,31)"
   ]
  },
  {
   "cell_type": "code",
   "execution_count": 199,
   "metadata": {},
   "outputs": [
    {
     "data": {
      "text/plain": [
       "array([100,  12,  13,  14,  15,  16,  17,  18,  19,  20, 110,  21,  22,\n",
       "        23,  24,  25,  26,  27,  28,  29,  30])"
      ]
     },
     "execution_count": 199,
     "metadata": {},
     "output_type": "execute_result"
    }
   ],
   "source": [
    "#menambah di sutu index\n",
    "#np.insert(array, index, value)\n",
    "np.insert(my_array9, 10,110)"
   ]
  },
  {
   "cell_type": "code",
   "execution_count": 239,
   "metadata": {},
   "outputs": [
    {
     "data": {
      "text/plain": [
       "array([12, 13, 14, 15, 16, 17, 18, 19, 20, 21, 22, 23, 24, 25, 26, 27, 28,\n",
       "       29, 30])"
      ]
     },
     "execution_count": 239,
     "metadata": {},
     "output_type": "execute_result"
    }
   ],
   "source": [
    "# np.delete(array, index)\n",
    "np.delete(my_array9, 0)"
   ]
  },
  {
   "cell_type": "markdown",
   "metadata": {},
   "source": [
    "## 11. np.vstack() & np.htack()"
   ]
  },
  {
   "cell_type": "code",
   "execution_count": 202,
   "metadata": {},
   "outputs": [],
   "source": [
    "#vstack = menumpuk data secara vertikal, menambah jadi atas bawah.\n",
    "# perhatikan kolomnya harus sama.\n",
    "\n",
    "#hstack = menumpuk data secara horisontal, menambah jadi kanan kiri.\n",
    "# perhatikan barisnya harus sama dan dimensionnya."
   ]
  },
  {
   "cell_type": "code",
   "execution_count": 203,
   "metadata": {},
   "outputs": [
    {
     "data": {
      "text/plain": [
       "array([100,  12,  13,  14,  15,  16,  17,  18,  19,  20,  21,  22,  23,\n",
       "        24,  25,  26,  27,  28,  29,  30])"
      ]
     },
     "execution_count": 203,
     "metadata": {},
     "output_type": "execute_result"
    }
   ],
   "source": [
    "my_array9"
   ]
  },
  {
   "cell_type": "code",
   "execution_count": 204,
   "metadata": {},
   "outputs": [
    {
     "data": {
      "text/plain": [
       "array([14, 11, 10, 10, 10, 14, 12, 11, 10, 11, 12, 10, 13, 10, 14, 12, 13,\n",
       "       11, 13, 11])"
      ]
     },
     "execution_count": 204,
     "metadata": {},
     "output_type": "execute_result"
    }
   ],
   "source": [
    "my_array10"
   ]
  },
  {
   "cell_type": "code",
   "execution_count": 205,
   "metadata": {},
   "outputs": [
    {
     "name": "stdout",
     "output_type": "stream",
     "text": [
      "[[100  12  13  14  15  16  17  18  19  20  21  22  23  24  25  26  27  28\n",
      "   29  30]\n",
      " [ 14  11  10  10  10  14  12  11  10  11  12  10  13  10  14  12  13  11\n",
      "   13  11]]\n"
     ]
    }
   ],
   "source": [
    "vstack9_10 = np.vstack([my_array9, my_array10])\n",
    "print(vstack9_10)"
   ]
  },
  {
   "cell_type": "code",
   "execution_count": 206,
   "metadata": {},
   "outputs": [
    {
     "data": {
      "text/plain": [
       "(2, 20)"
      ]
     },
     "execution_count": 206,
     "metadata": {},
     "output_type": "execute_result"
    }
   ],
   "source": [
    "vstack9_10.shape"
   ]
  },
  {
   "cell_type": "code",
   "execution_count": 207,
   "metadata": {},
   "outputs": [
    {
     "data": {
      "text/plain": [
       "array([[3, 2, 9, 4, 7, 5, 4, 2, 1, 9, 4, 6, 3, 1, 8, 4, 2, 3, 7, 6],\n",
       "       [9, 6, 8, 6, 5, 2, 6, 4, 7, 6, 6, 4, 4, 4, 5, 3, 7, 7, 7, 4]])"
      ]
     },
     "execution_count": 207,
     "metadata": {},
     "output_type": "execute_result"
    }
   ],
   "source": [
    "my_matrix11 = np.random.randint(1,10,[2,20])\n",
    "my_matrix11"
   ]
  },
  {
   "cell_type": "code",
   "execution_count": 256,
   "metadata": {},
   "outputs": [
    {
     "data": {
      "text/plain": [
       "array([100,  12,  13,  14,  15,  16,  17,  18,  19,  20,  21,  22,  23,\n",
       "        24,  25,  26,  27,  28,  29,  30,  14,  11,  10,  10,  10,  14,\n",
       "        12,  11,  10,  11,  12,  10,  13,  10,  14,  12,  13,  11,  13,\n",
       "        11])"
      ]
     },
     "execution_count": 256,
     "metadata": {},
     "output_type": "execute_result"
    }
   ],
   "source": [
    "hstack9_10 = np.hstack([my_array9, my_array10])\n",
    "hstack9_10"
   ]
  },
  {
   "cell_type": "markdown",
   "metadata": {},
   "source": [
    "## 12. np.concatenate()"
   ]
  },
  {
   "cell_type": "code",
   "execution_count": 211,
   "metadata": {},
   "outputs": [
    {
     "data": {
      "text/plain": [
       "array([100,  12,  13,  14,  15,  16,  17,  18,  19,  20,  21,  22,  23,\n",
       "        24,  25,  26,  27,  28,  29,  30])"
      ]
     },
     "execution_count": 211,
     "metadata": {},
     "output_type": "execute_result"
    }
   ],
   "source": [
    "my_array9"
   ]
  },
  {
   "cell_type": "code",
   "execution_count": 212,
   "metadata": {},
   "outputs": [
    {
     "data": {
      "text/plain": [
       "array([11, 12, 13, 14, 15, 16, 17, 18, 19, 20, 21, 22, 23, 24, 25, 26, 27,\n",
       "       28, 29, 30])"
      ]
     },
     "execution_count": 212,
     "metadata": {},
     "output_type": "execute_result"
    }
   ],
   "source": [
    "my_array8"
   ]
  },
  {
   "cell_type": "code",
   "execution_count": 214,
   "metadata": {},
   "outputs": [
    {
     "data": {
      "text/plain": [
       "array([100,  12,  13,  14,  15,  16,  17,  18,  19,  20,  21,  22,  23,\n",
       "        24,  25,  26,  27,  28,  29,  30,  11,  12,  13,  14,  15,  16,\n",
       "        17,  18,  19,  20,  21,  22,  23,  24,  25,  26,  27,  28,  29,\n",
       "        30])"
      ]
     },
     "execution_count": 214,
     "metadata": {},
     "output_type": "execute_result"
    }
   ],
   "source": [
    "#axis=1 ==> nambah kesamping alias nambah colum \n",
    "arr8_9_0 = np.concatenate([my_array9, my_array8], axis=0)\n",
    "arr8_9_0"
   ]
  },
  {
   "cell_type": "code",
   "execution_count": 257,
   "metadata": {},
   "outputs": [
    {
     "ename": "AxisError",
     "evalue": "axis 1 is out of bounds for array of dimension 1",
     "output_type": "error",
     "traceback": [
      "\u001b[1;31m---------------------------------------------------------------------------\u001b[0m",
      "\u001b[1;31mAxisError\u001b[0m                                 Traceback (most recent call last)",
      "\u001b[1;32m<ipython-input-257-2df6aaf79b72>\u001b[0m in \u001b[0;36m<module>\u001b[1;34m\u001b[0m\n\u001b[1;32m----> 1\u001b[1;33m \u001b[0marr8_9_1_\u001b[0m \u001b[1;33m=\u001b[0m \u001b[0mnp\u001b[0m\u001b[1;33m.\u001b[0m\u001b[0mconcatenate\u001b[0m\u001b[1;33m(\u001b[0m\u001b[1;33m[\u001b[0m\u001b[0mmy_array9\u001b[0m\u001b[1;33m,\u001b[0m \u001b[0mmy_array8\u001b[0m\u001b[1;33m]\u001b[0m\u001b[1;33m,\u001b[0m \u001b[0maxis\u001b[0m\u001b[1;33m=\u001b[0m\u001b[1;36m1\u001b[0m\u001b[1;33m)\u001b[0m\u001b[1;33m\u001b[0m\u001b[1;33m\u001b[0m\u001b[0m\n\u001b[0m\u001b[0;32m      2\u001b[0m \u001b[0marr8_9_1_\u001b[0m\u001b[1;33m\u001b[0m\u001b[1;33m\u001b[0m\u001b[0m\n",
      "\u001b[1;32m<__array_function__ internals>\u001b[0m in \u001b[0;36mconcatenate\u001b[1;34m(*args, **kwargs)\u001b[0m\n",
      "\u001b[1;31mAxisError\u001b[0m: axis 1 is out of bounds for array of dimension 1"
     ]
    }
   ],
   "source": [
    "arr8_9_1_ = np.concatenate([my_array9, my_array8], axis=1)\n",
    "arr8_9_1_"
   ]
  },
  {
   "cell_type": "code",
   "execution_count": null,
   "metadata": {},
   "outputs": [],
   "source": [
    "# axis=0 ==> nambah kebawah alias baris"
   ]
  },
  {
   "cell_type": "code",
   "execution_count": 251,
   "metadata": {},
   "outputs": [
    {
     "data": {
      "text/plain": [
       "array([[100,  12,  13,  14,  15,  16,  17,  18,  19,  20,  21,  22,  23,\n",
       "         24,  25,  26,  27,  28,  29,  30],\n",
       "       [ 11,  12,  13,  14,  15,  16,  17,  18,  19,  20,  21,  22,  23,\n",
       "         24,  25,  26,  27,  28,  29,  30]])"
      ]
     },
     "execution_count": 251,
     "metadata": {},
     "output_type": "execute_result"
    }
   ],
   "source": [
    "arr8_9_1 = np.concatenate([my_array9.reshape(1,-1), my_array8.reshape(1,-1)], axis=0)\n",
    "arr8_9_1"
   ]
  },
  {
   "cell_type": "code",
   "execution_count": 216,
   "metadata": {},
   "outputs": [],
   "source": [
    "##### ketinggalan"
   ]
  },
  {
   "cell_type": "markdown",
   "metadata": {},
   "source": [
    "## 13. np.sort()"
   ]
  },
  {
   "cell_type": "code",
   "execution_count": 217,
   "metadata": {},
   "outputs": [
    {
     "data": {
      "text/plain": [
       "array([100,  12,  13,  14,  15,  16,  17,  18,  19,  20,  21,  22,  23,\n",
       "        24,  25,  26,  27,  28,  29,  30])"
      ]
     },
     "execution_count": 217,
     "metadata": {},
     "output_type": "execute_result"
    }
   ],
   "source": [
    "my_array9"
   ]
  },
  {
   "cell_type": "code",
   "execution_count": 218,
   "metadata": {},
   "outputs": [
    {
     "data": {
      "text/plain": [
       "array([ 12,  13,  14,  15,  16,  17,  18,  19,  20,  21,  22,  23,  24,\n",
       "        25,  26,  27,  28,  29,  30, 100])"
      ]
     },
     "execution_count": 218,
     "metadata": {},
     "output_type": "execute_result"
    }
   ],
   "source": [
    "#mengurutkan dari kecil ke besar\n",
    "np.sort(my_array9)"
   ]
  },
  {
   "cell_type": "markdown",
   "metadata": {},
   "source": [
    "## 14. arr.transpose"
   ]
  },
  {
   "cell_type": "code",
   "execution_count": 220,
   "metadata": {},
   "outputs": [
    {
     "data": {
      "text/plain": [
       "array([[100,  12,  13,  14,  15],\n",
       "       [ 16,  17,  18,  19,  20],\n",
       "       [ 21,  22,  23,  24,  25],\n",
       "       [ 26,  27,  28,  29,  30]])"
      ]
     },
     "execution_count": 220,
     "metadata": {},
     "output_type": "execute_result"
    }
   ],
   "source": [
    "my_matrix9"
   ]
  },
  {
   "cell_type": "code",
   "execution_count": 221,
   "metadata": {},
   "outputs": [
    {
     "data": {
      "text/plain": [
       "array([[100,  16,  21,  26],\n",
       "       [ 12,  17,  22,  27],\n",
       "       [ 13,  18,  23,  28],\n",
       "       [ 14,  19,  24,  29],\n",
       "       [ 15,  20,  25,  30]])"
      ]
     },
     "execution_count": 221,
     "metadata": {},
     "output_type": "execute_result"
    }
   ],
   "source": [
    "#Mengubah kolom jadi baris, baris jadi kolom\n",
    "my_matrix9.transpose()"
   ]
  },
  {
   "cell_type": "code",
   "execution_count": 222,
   "metadata": {},
   "outputs": [
    {
     "data": {
      "text/plain": [
       "array([[100,  16,  21,  26],\n",
       "       [ 12,  17,  22,  27],\n",
       "       [ 13,  18,  23,  28],\n",
       "       [ 14,  19,  24,  29],\n",
       "       [ 15,  20,  25,  30]])"
      ]
     },
     "execution_count": 222,
     "metadata": {},
     "output_type": "execute_result"
    }
   ],
   "source": [
    "my_matrix9.T"
   ]
  },
  {
   "cell_type": "code",
   "execution_count": 243,
   "metadata": {},
   "outputs": [
    {
     "data": {
      "text/plain": [
       "array([[1, 5, 8, 8, 9],\n",
       "       [7, 7, 3, 5, 8]])"
      ]
     },
     "execution_count": 243,
     "metadata": {},
     "output_type": "execute_result"
    }
   ],
   "source": [
    "zzz = np.array([[1,5,8,8,9],[7,7,3,5,8]])\n",
    "zzz"
   ]
  },
  {
   "cell_type": "code",
   "execution_count": 244,
   "metadata": {},
   "outputs": [
    {
     "data": {
      "text/plain": [
       "array([[1, 7],\n",
       "       [5, 7],\n",
       "       [8, 3],\n",
       "       [8, 5],\n",
       "       [9, 8]])"
      ]
     },
     "execution_count": 244,
     "metadata": {},
     "output_type": "execute_result"
    }
   ],
   "source": [
    "zzz.T"
   ]
  },
  {
   "cell_type": "code",
   "execution_count": null,
   "metadata": {},
   "outputs": [],
   "source": []
  }
 ],
 "metadata": {
  "kernelspec": {
   "display_name": "Python 3",
   "language": "python",
   "name": "python3"
  },
  "language_info": {
   "codemirror_mode": {
    "name": "ipython",
    "version": 3
   },
   "file_extension": ".py",
   "mimetype": "text/x-python",
   "name": "python",
   "nbconvert_exporter": "python",
   "pygments_lexer": "ipython3",
   "version": "3.8.5"
  }
 },
 "nbformat": 4,
 "nbformat_minor": 4
}
